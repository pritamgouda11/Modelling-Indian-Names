{
  "cells": [
    {
      "cell_type": "markdown",
      "metadata": {
        "id": "view-in-github",
        "colab_type": "text"
      },
      "source": [
        "<a href=\"https://colab.research.google.com/github/pritamgouda11/Modelling-Indian_Names/blob/main/Gouda_Pritam_Trilochan_Savita_assignment2.ipynb\" target=\"_parent\"><img src=\"https://colab.research.google.com/assets/colab-badge.svg\" alt=\"Open In Colab\"/></a>"
      ]
    },
    {
      "cell_type": "markdown",
      "metadata": {
        "id": "IbVBhrOx4WzV"
      },
      "source": [
        "# Assignment 2: Language Modelling (TA: Navreet Kaur)\n",
        "\n",
        "The goal of this assignment is to model Indian first names using character-level language models.\n",
        "\n",
        "You'll have to add your code wherever you see the comment `# ADD YOUR CODE HERE`. Please make a copy of this assignment, and you can use Google Colab notebooks to work on this. Later, you can download this notebook as a python file and submit it as per the following instructions.\n",
        "\n",
        "**Important Note**: Whenever you add your code, please enclose your code block within two comments `# BEGIN CODE` and `# END CODE` to indicate the start and end of your code.\n",
        "Example:\n",
        "\n",
        "```\n",
        "def model():\n",
        "\n",
        "    data = get_dataloader() # this is defined by us\n",
        "\n",
        "    # ADD YOUR CODE HERE\n",
        "\n",
        "    # BEGIN CODE\n",
        "\n",
        "    run_training() # this is written by you\n",
        "\n",
        "    generate_names() # this is written by you\n",
        "\n",
        "    # END CODE\n",
        "\n",
        "```"
      ]
    },
    {
      "cell_type": "markdown",
      "metadata": {
        "id": "IihIo1ydclhU"
      },
      "source": [
        "## Submission Instructions"
      ]
    },
    {
      "cell_type": "markdown",
      "metadata": {
        "id": "oLuSZmAidZKA"
      },
      "source": [
        "Note that your assignment will be based on the results obtained by functions implemented by you. Do not change the print statements having `EVALUATION` as they are used for auto-evaluation.\n",
        "\n",
        "You'd need to submit the following files:\n",
        "\n",
        "  * Save this `.ipynb` to your drive, complete the required code blocks and run the notebook.\n",
        "\n",
        "  * After completing this assignment, download the notebook as`.py`. Name it as `SAPname_SRno_assignment2.py`, where `SAPname` refers to your name as per SAP record, and `SRno` refers to the last 5 digits of your IISc SR number. For example, IISc student with SAP name Twyla Linda (SR no - 04-03-00-10-22-20-1-15329) would name it as `Twyla_Linda_15329_assignment2.py`.\n",
        "\n",
        "  *   The files associated with FNN and RNN models i.e. `model.pt`, `vocab.pt` and `loss.json` will be downloaded and saved in folders with names `fnn` and `rnn` respectively, and these will be contained within folder `SAPname_SRno`. Zip this folder along with the `.py` file, save it as `SAPname_SRno_assigment2` and upload on MS Teams. The directory can be summarised as follows:\n",
        "\n",
        "```\n",
        "SAPname_SRno_assigment2\n",
        "│   SAPname_SRno_assignment2.py  \n",
        "│\n",
        "└───SAPname_SRno\n",
        "│   │\n",
        "│   └───fnn\n",
        "│   │   │   model.pt\n",
        "│   │   │   vocab.pt\n",
        "│   │   │   loss.json\n",
        "│   │\n",
        "│   └───rnn\n",
        "│       │   model.pt\n",
        "│       │   vocab.pt\n",
        "│       │   loss.json\n",
        "\n",
        "```\n",
        "\n",
        "Because submissions are auto-graded, please ensure that the naming of the files is consistent with the instructions."
      ]
    },
    {
      "cell_type": "markdown",
      "source": [
        "## Broad Outline\n",
        "\n",
        "In this assignment, we will implement different types of language models for modeling Indian names. There are clealry patterns in Indian names that models could learn, and we start modeling those using n-gram models, then move to neural n-gram and RNN models.\n",
        "\n",
        "\n",
        "**Marks Distribution:**\n",
        "- Unigram: 5\n",
        "- Bigram: 15\n",
        "- Trigram: 10\n",
        "- Neural N-gram LM: 30\n",
        "- RNN LM: 40\n",
        "\n"
      ],
      "metadata": {
        "id": "R7PCPFrNAleF"
      }
    },
    {
      "cell_type": "markdown",
      "source": [
        "# Read and Preprocess Data"
      ],
      "metadata": {
        "id": "aRfBYfGr_Brg"
      }
    },
    {
      "cell_type": "code",
      "source": [
        "# importing necessary libraries\n",
        "import pandas as pd\n",
        "import numpy as np\n",
        "import math\n",
        "import copy\n",
        "import random\n",
        "from collections import Counter, defaultdict\n",
        "\n",
        "from torchtext.vocab import build_vocab_from_iterator\n",
        "from torch.utils.data import DataLoader"
      ],
      "metadata": {
        "id": "EwZ5kF6r_ER2"
      },
      "execution_count": null,
      "outputs": []
    },
    {
      "cell_type": "code",
      "source": [
        "from google.colab import drive\n",
        "drive.mount('/content/drive')"
      ],
      "metadata": {
        "colab": {
          "base_uri": "https://localhost:8080/"
        },
        "id": "Rt_VxLwKcqGM",
        "outputId": "c34f877e-6a14-427e-d388-9469c636d772"
      },
      "execution_count": null,
      "outputs": [
        {
          "output_type": "stream",
          "name": "stdout",
          "text": [
            "Drive already mounted at /content/drive; to attempt to forcibly remount, call drive.mount(\"/content/drive\", force_remount=True).\n"
          ]
        }
      ]
    },
    {
      "cell_type": "markdown",
      "source": [
        "Please note that we may change the contents of the following four files when we rerun your code, so please make sure that your solution is not specifically engineered to just these names."
      ],
      "metadata": {
        "id": "IuKwSZRvktVK"
      }
    },
    {
      "cell_type": "code",
      "source": [
        "# Download the training and validation datasets\n",
        "!wget -O train_data.csv \"https://docs.google.com/spreadsheets/d/1AUzwOQQbAehg_eoAMCcWfwSGhKwSAtnIzapt2wbv0Zs/gviz/tq?tqx=out:csv&sheet=train_data.csv\"\n",
        "!wget -O valid_data.csv \"https://docs.google.com/spreadsheets/d/1UtQErvMS-vcQEwjZIjLFnDXlRZPxgO1CU3PF-JYQKvA/gviz/tq?tqx=out:csv&sheet=valid_data.csv\"\n",
        "\n",
        "# Download the text for evaluation\n",
        "!wget -O eval_prefixes.txt \"https://drive.google.com/uc?export=download&id=1tuRLJXLd2VcDaWENr8JTZMcjFlwyRo60\"\n",
        "!wget -O eval_sequences.txt \"https://drive.google.com/uc?export=download&id=1kjPAR04UTKmdtV-FJ9SmDlotkt-IKM3b\""
      ],
      "metadata": {
        "id": "NZlaqugU_EPv",
        "colab": {
          "base_uri": "https://localhost:8080/"
        },
        "outputId": "0ede5ea9-66f9-4a6c-f61e-66862079ba64"
      },
      "execution_count": null,
      "outputs": [
        {
          "output_type": "stream",
          "name": "stdout",
          "text": [
            "--2024-02-24 06:13:14--  https://docs.google.com/spreadsheets/d/1AUzwOQQbAehg_eoAMCcWfwSGhKwSAtnIzapt2wbv0Zs/gviz/tq?tqx=out:csv&sheet=train_data.csv\n",
            "Resolving docs.google.com (docs.google.com)... 74.125.195.113, 74.125.195.100, 74.125.195.139, ...\n",
            "Connecting to docs.google.com (docs.google.com)|74.125.195.113|:443... connected.\n",
            "HTTP request sent, awaiting response... 200 OK\n",
            "Length: unspecified [text/csv]\n",
            "Saving to: ‘train_data.csv’\n",
            "\n",
            "train_data.csv          [ <=>                ]  71.07K  --.-KB/s    in 0.005s  \n",
            "\n",
            "2024-02-24 06:13:14 (15.1 MB/s) - ‘train_data.csv’ saved [72776]\n",
            "\n",
            "--2024-02-24 06:13:14--  https://docs.google.com/spreadsheets/d/1UtQErvMS-vcQEwjZIjLFnDXlRZPxgO1CU3PF-JYQKvA/gviz/tq?tqx=out:csv&sheet=valid_data.csv\n",
            "Resolving docs.google.com (docs.google.com)... 74.125.195.113, 74.125.195.100, 74.125.195.139, ...\n",
            "Connecting to docs.google.com (docs.google.com)|74.125.195.113|:443... connected.\n",
            "HTTP request sent, awaiting response... 200 OK\n",
            "Length: unspecified [text/csv]\n",
            "Saving to: ‘valid_data.csv’\n",
            "\n",
            "valid_data.csv          [ <=>                ]  19.76K  --.-KB/s    in 0.001s  \n",
            "\n",
            "2024-02-24 06:13:15 (18.7 MB/s) - ‘valid_data.csv’ saved [20230]\n",
            "\n",
            "--2024-02-24 06:13:15--  https://drive.google.com/uc?export=download&id=1tuRLJXLd2VcDaWENr8JTZMcjFlwyRo60\n",
            "Resolving drive.google.com (drive.google.com)... 74.125.20.139, 74.125.20.101, 74.125.20.100, ...\n",
            "Connecting to drive.google.com (drive.google.com)|74.125.20.139|:443... connected.\n",
            "HTTP request sent, awaiting response... 303 See Other\n",
            "Location: https://drive.usercontent.google.com/download?id=1tuRLJXLd2VcDaWENr8JTZMcjFlwyRo60&export=download [following]\n",
            "--2024-02-24 06:13:15--  https://drive.usercontent.google.com/download?id=1tuRLJXLd2VcDaWENr8JTZMcjFlwyRo60&export=download\n",
            "Resolving drive.usercontent.google.com (drive.usercontent.google.com)... 74.125.195.132, 2607:f8b0:400e:c06::84\n",
            "Connecting to drive.usercontent.google.com (drive.usercontent.google.com)|74.125.195.132|:443... connected.\n",
            "HTTP request sent, awaiting response... 200 OK\n",
            "Length: 12 [application/octet-stream]\n",
            "Saving to: ‘eval_prefixes.txt’\n",
            "\n",
            "eval_prefixes.txt   100%[===================>]      12  --.-KB/s    in 0s      \n",
            "\n",
            "2024-02-24 06:13:16 (512 KB/s) - ‘eval_prefixes.txt’ saved [12/12]\n",
            "\n",
            "--2024-02-24 06:13:16--  https://drive.google.com/uc?export=download&id=1kjPAR04UTKmdtV-FJ9SmDlotkt-IKM3b\n",
            "Resolving drive.google.com (drive.google.com)... 74.125.20.139, 74.125.20.101, 74.125.20.100, ...\n",
            "Connecting to drive.google.com (drive.google.com)|74.125.20.139|:443... connected.\n",
            "HTTP request sent, awaiting response... 303 See Other\n",
            "Location: https://drive.usercontent.google.com/download?id=1kjPAR04UTKmdtV-FJ9SmDlotkt-IKM3b&export=download [following]\n",
            "--2024-02-24 06:13:16--  https://drive.usercontent.google.com/download?id=1kjPAR04UTKmdtV-FJ9SmDlotkt-IKM3b&export=download\n",
            "Resolving drive.usercontent.google.com (drive.usercontent.google.com)... 74.125.195.132, 2607:f8b0:400e:c06::84\n",
            "Connecting to drive.usercontent.google.com (drive.usercontent.google.com)|74.125.195.132|:443... connected.\n",
            "HTTP request sent, awaiting response... 200 OK\n",
            "Length: 12 [application/octet-stream]\n",
            "Saving to: ‘eval_sequences.txt’\n",
            "\n",
            "eval_sequences.txt  100%[===================>]      12  --.-KB/s    in 0s      \n",
            "\n",
            "2024-02-24 06:13:16 (455 KB/s) - ‘eval_sequences.txt’ saved [12/12]\n",
            "\n"
          ]
        }
      ]
    },
    {
      "cell_type": "code",
      "source": [
        "## Please do not change anything in this code block.\n",
        "\n",
        "def read_dataframe(ds_type):\n",
        "    \"\"\"\n",
        "    Args:\n",
        "        ds_type [str] :  dataset type (train or valid)\n",
        "\n",
        "    Returns:\n",
        "        df [pandas dataframe]\n",
        "    \"\"\"\n",
        "\n",
        "    df = pd.read_csv(f\"/content/{ds_type}_data.csv\", header=0, index_col=0)\n",
        "    df = df[~df['Name'].isna()]\n",
        "    df['Name'] = df['Name'].astype(str)\n",
        "    return df\n",
        "\n",
        "# Load the training and validation datasets\n",
        "train_data = read_dataframe(\"train\")\n",
        "validation_data = read_dataframe(\"valid\")\n",
        "\n",
        "# Read files containing prefixes and character sequences for evaluation\n",
        "with open('eval_prefixes.txt', 'r') as file:\n",
        "    eval_prefixes = []\n",
        "    for line in file:\n",
        "        eval_prefixes.append(line.strip().split(\" \"))\n",
        "\n",
        "with open('eval_sequences.txt', 'r') as file:\n",
        "    eval_sequences = []\n",
        "    for line in file:\n",
        "        eval_sequences.append(line.strip().split(\" \"))\n",
        "\n",
        "print(f\"Length of training data: {len(train_data)}\\nLength of validation data: {len(validation_data)}\")"
      ],
      "metadata": {
        "id": "Xv2bBmxbGlR2",
        "colab": {
          "base_uri": "https://localhost:8080/"
        },
        "outputId": "d87315c7-016f-4c34-b9db-cb851abe5331"
      },
      "execution_count": null,
      "outputs": [
        {
          "output_type": "stream",
          "name": "stdout",
          "text": [
            "Length of training data: 4539\n",
            "Length of validation data: 1297\n"
          ]
        }
      ]
    },
    {
      "cell_type": "code",
      "source": [
        "## Please do not change anything in this code block.\n",
        "\n",
        "START = \"<s>\"   # Start-of-name token\n",
        "END = \"</s>\"    # End-of-name token\n",
        "UNK = \"<unk>\"   # token representing out of unknown (or out of vocabulary) tokens\n",
        "vocab_from_ascii = True\n",
        "\n",
        "def build_vocab(names):\n",
        "    \"\"\"\n",
        "    Builds a vocabulary given a list of names\n",
        "\n",
        "    Args:\n",
        "        names [list[str]]: list of names\n",
        "\n",
        "    Returns:\n",
        "        vocab [torchtext.vocab]: vocabulary based on the names\n",
        "\n",
        "    \"\"\"\n",
        "\n",
        "    if vocab_from_ascii:\n",
        "        char_counts = {chr(i):i for i in range(128)}\n",
        "    else:\n",
        "        char_counts = Counter(\"\".join(names))\n",
        "\n",
        "    vocab = build_vocab_from_iterator(\n",
        "                    char_counts,\n",
        "                    specials=[UNK, START, END], #adding special tokens to the vocabulary\n",
        "                    min_freq=1\n",
        "                )\n",
        "    vocab.set_default_index(vocab[UNK])\n",
        "    return vocab\n",
        "\n",
        "\n",
        "def tokenize_name(name):\n",
        "    \"\"\"\n",
        "    Tokenise the name i.e. break a name into list of characters\n",
        "\n",
        "    Args:\n",
        "        name [str]: name to be tokenized\n",
        "\n",
        "    Returns:\n",
        "        list of characters\n",
        "    \"\"\"\n",
        "\n",
        "    return list(str(name))\n",
        "\n",
        "\n",
        "def process_data_for_input(data_iter, vocab):\n",
        "    \"\"\"\n",
        "    Processes data for input: Breaks names into characters,\n",
        "    converts out of vocabulary tokens to UNK and\n",
        "    appends END token at the end of every name\n",
        "\n",
        "    Args:\n",
        "        data_iter: data iterator consisting of names\n",
        "        vocab: vocabulary\n",
        "\n",
        "    Returns:\n",
        "        data_iter [list[list[str]]]: list of names, where each name is a\n",
        "                                list of characters and is appended with\n",
        "                                START and END tokens\n",
        "\n",
        "    \"\"\"\n",
        "\n",
        "    vocab_set = set(vocab.get_itos())\n",
        "    # convert Out Of Vocabulary (OOV) tokens to UNK tokens\n",
        "    data_iter = [[char if char in vocab_set else UNK\n",
        "                        for char in tokenize_name(name)] for name in data_iter]\n",
        "    data_iter = [[START] + name + [END] for name in data_iter]\n",
        "\n",
        "    return data_iter\n",
        "\n",
        "\n",
        "def get_tokenised_text_and_vocab(ds_type, vocab=None):\n",
        "    \"\"\"\n",
        "    Reads input data, tokenizes it, builds vocabulary (if unspecified)\n",
        "    and outputs tokenised list of names (which in turn is a list of characters)\n",
        "\n",
        "    Args:\n",
        "        ds_type [str]: Type of the dataset (e.g., train, validation, test)\n",
        "        vocab [torchtext.vocab]: vocabulary;\n",
        "                                 If vocab is None, the function will\n",
        "                                 build the vocabulary from input text.\n",
        "                                 If vocab is provided, it will tokenize name\n",
        "                                 according to the vocab, replacing any tokens\n",
        "                                 not part of the vocab with UNK token.\n",
        "\n",
        "    Returns:\n",
        "        data_iter: data iterator for tokenized names\n",
        "        vocab: vocabulary\n",
        "\n",
        "    \"\"\"\n",
        "\n",
        "    # read the 'Name' column of the dataframe\n",
        "    if ds_type=='train':\n",
        "        data_iter = train_data['Name']\n",
        "    elif ds_type=='valid':\n",
        "        data_iter = validation_data['Name']\n",
        "    else:\n",
        "        data_iter = test_data['Name']\n",
        "\n",
        "    # build vocab from input data, if vocab is unspecified\n",
        "    if vocab is None:\n",
        "        vocab = build_vocab(data_iter)\n",
        "\n",
        "    # convert OOV chars to UNK, append START and END token to each name\n",
        "    data_iter = process_data_for_input(data_iter, vocab)\n",
        "\n",
        "    return data_iter, vocab"
      ],
      "metadata": {
        "id": "bjAkd4OKHQDr"
      },
      "execution_count": null,
      "outputs": []
    },
    {
      "cell_type": "markdown",
      "source": [
        "Let's look at some examples from the training set"
      ],
      "metadata": {
        "id": "-ZOCgikIKQMT"
      }
    },
    {
      "cell_type": "code",
      "source": [
        "# Look at some random examples from the training set\n",
        "examples = \", \".join(random.sample(list(train_data['Name']), 5))\n",
        "f\"Examples from the training set: {examples}\""
      ],
      "metadata": {
        "colab": {
          "base_uri": "https://localhost:8080/",
          "height": 34
        },
        "id": "zs1WLnSwKL7o",
        "outputId": "07a1bb45-c366-4887-a2a5-85215d514abf"
      },
      "execution_count": null,
      "outputs": [
        {
          "output_type": "execute_result",
          "data": {
            "text/plain": [
              "'Examples from the training set: deepender, gollu, tushar, amrudin, satyaprakash'"
            ],
            "application/vnd.google.colaboratory.intrinsic+json": {
              "type": "string"
            }
          },
          "metadata": {},
          "execution_count": 51
        }
      ]
    },
    {
      "cell_type": "markdown",
      "metadata": {
        "id": "ao45NGBZoGt6"
      },
      "source": [
        "# Module 1: N-gram Language Modelling"
      ]
    },
    {
      "cell_type": "markdown",
      "source": [
        "Load and preprocess the data for n-gram models"
      ],
      "metadata": {
        "id": "0Y1aGXxaSKK7"
      }
    },
    {
      "cell_type": "code",
      "execution_count": null,
      "metadata": {
        "id": "Ja95kukk5Tjb",
        "colab": {
          "base_uri": "https://localhost:8080/"
        },
        "outputId": "7a897d7e-c95c-4496-a8ea-659eb6938f19"
      },
      "outputs": [
        {
          "output_type": "stream",
          "name": "stdout",
          "text": [
            "Mean length of names: 6.27605199383124\n",
            "Maximum length of names: 19\n"
          ]
        }
      ],
      "source": [
        "\"\"\"choose your hyperparameter and see the difference in performance\"\"\"\n",
        "\n",
        "# CHANGE THE None VALUES TO YOUR DESIRED VALUES\n",
        "\n",
        "# ADD YOUR CODE HERE\n",
        "\n",
        "# BEGIN CODE\n",
        "names = train_data['Name']\n",
        "name_lengths = names.str.len()\n",
        "max_length = name_lengths.max()\n",
        "mean_length = name_lengths.mean()\n",
        "print(\"Mean length of names:\", mean_length)\n",
        "print(\"Maximum length of names:\", max_length)\n",
        "# END CODE\n",
        "\n",
        "MAX_NAME_LENGTH = 11 # maximum length of names for generation"
      ]
    },
    {
      "cell_type": "code",
      "execution_count": null,
      "metadata": {
        "id": "4YUgIT0uH9Jp",
        "colab": {
          "base_uri": "https://localhost:8080/"
        },
        "outputId": "bc0ee22b-a96b-4daa-9892-0472b0045948"
      },
      "outputs": [
        {
          "output_type": "stream",
          "name": "stdout",
          "text": [
            "131\n"
          ]
        }
      ],
      "source": [
        "# Get data iterator and build vocabulary from input text\n",
        "\n",
        "train_text, vocab = get_tokenised_text_and_vocab(ds_type='train')\n",
        "validation_text, _ = get_tokenised_text_and_vocab(ds_type='valid', vocab=vocab)\n",
        "\n",
        "# Check the size of vocabulary\n",
        "vocab_size = len(vocab.get_stoi())\n",
        "print(vocab_size)"
      ]
    },
    {
      "cell_type": "markdown",
      "metadata": {
        "id": "wtpfw2ZCfrFf"
      },
      "source": [
        "\n",
        "Now it's time to implement an [n-gram language model](https://web.stanford.edu/~jurafsky/slp3/3.pdf).\n",
        "\n",
        "One edge case you will need to handle is that you don't have $n-1$ prior characters at the beginning of the text.  One way to do this is by appending the `START` token $n-1$ times at the start of the name, when implementing an $n$-gram model. You may choose whichever method you like to handle this case as long as you produce a valid probability distribution (one that sums to one).\n",
        "\n",
        "**Generating names**\n",
        "\n",
        "To generate from a language model, we can sample one char at a time conditioning on the chars we have generated so far.\n",
        "\n",
        "In fact there are many strategies to get better-sounding samples, such as only sampling from the top-k chars or sharpening the distribution with a temperature.  You can read more about sampling from a language model in [this](https://arxiv.org/pdf/1904.09751.pdf) paper.\n",
        "\n",
        "\n",
        "We will now implement N-gram models with $N=1$ (unigram), $N=2$ (bigram), and $N=3$ (trigram).\n",
        "\n",
        "**Utility Functions**\n",
        "\n",
        "Implement the utility functions `get_unigram_counts`, `get_bigram_counts` and `get_trigram_counts`. You can use these functions while implementing n-gram models."
      ]
    },
    {
      "cell_type": "code",
      "execution_count": null,
      "metadata": {
        "id": "aG5lMSVDfoyX"
      },
      "outputs": [],
      "source": [
        "def get_unigram_counts(corpus):\n",
        "    \"\"\"\n",
        "    Given a corpus, calculates the unigram counts for each character in the corpus\n",
        "\n",
        "    Args:\n",
        "        corpus [list[list[str]]]: list of tokenized characters. Text is appended with END token.\n",
        "\n",
        "    Returns:\n",
        "        unigram_counts [dict [key: char, value: count]]:\n",
        "            dictionary of unigram counts for each character in the corpus\n",
        "        Example:\n",
        "        > unigram_counts[\"c1\"] = 5\n",
        "    \"\"\"\n",
        "\n",
        "     # ADD YOUR CODE HERE\n",
        "     #BEGIN CODE\n",
        "    unigram_counts ={}\n",
        "    for name in corpus:\n",
        "        for char in name:\n",
        "            if char in unigram_counts:\n",
        "                unigram_counts[char]= unigram_counts[char] +1\n",
        "            else:\n",
        "                unigram_counts[char]=1\n",
        "      #END CODE\n",
        "    return unigram_counts"
      ]
    },
    {
      "cell_type": "code",
      "execution_count": null,
      "metadata": {
        "id": "7YhWT1YdgY3P"
      },
      "outputs": [],
      "source": [
        "def get_bigram_counts(corpus):\n",
        "    \"\"\"\n",
        "    Given a corpus, calculates the bigram counts for each bigram in the corpus.\n",
        "    The corpus *only* contains END tokens at the end of names.\n",
        "    You may want to handle the case where the beginning of the name\n",
        "    does not have n-1 prior chars.\n",
        "\n",
        "    Args:\n",
        "        corpus [list[list[str]]]: list of tokenized text. Text is appended with END token.\n",
        "\n",
        "    Returns:\n",
        "        bigram_counts [dict[dict]]:\n",
        "            nested dictionary of bigram counts for each bigram in the corpus\n",
        "        Example:\n",
        "        > bigram_counts[\"c1\"][\"c2\"] = 5\n",
        "        here bigram_counts[\"c1\"][\"c2\"] represents P(\"c2\"|\"c1\")\n",
        "        P[\"c1\"][\"c2\"] means P[char_i = \"c2\"|char_{i-1} = \"c1\"]\n",
        "    \"\"\"\n",
        "\n",
        "    bigram_counts = {}\n",
        "\n",
        "    for name in corpus:\n",
        "\n",
        "        padded_name = [\"<s>\"] * (len(name) - 1) + name\n",
        "        for i in range(1, len(padded_name)):\n",
        "            bigram = (padded_name[i-1], padded_name[i])\n",
        "            if bigram[0] not in bigram_counts:\n",
        "                bigram_counts[bigram[0]] = {}\n",
        "            bigram_counts[bigram[0]][bigram[1]] = bigram_counts[bigram[0]].get(bigram[1], 0) + 1\n",
        "\n",
        "    return bigram_counts\n"
      ]
    },
    {
      "cell_type": "code",
      "execution_count": null,
      "metadata": {
        "id": "LZefWM6x2CSH"
      },
      "outputs": [],
      "source": [
        "def get_trigram_counts(corpus):\n",
        "    \"\"\"\n",
        "    Given a corpus, calculates the trigram counts for each trigram in the corpus.\n",
        "    The corpus *only* contains END tokens at the end of names.\n",
        "    You may want to handle the case where the beginning of the text\n",
        "    does not have n-1 prior chars.\n",
        "\n",
        "    Args:\n",
        "        corpus [list[list[str]]]: list of tokenized text. Text is appended with END token.\n",
        "\n",
        "    Returns:\n",
        "        trigram_counts [dict[dict[dict]]]:\n",
        "            nested dictionary for each trigram in the corpus\n",
        "        Example:\n",
        "        > trigram_counts[\"c1\"][\"c2\"][\"c3\"] = 5\n",
        "        P[\"c1\"][\"c2\"][\"c3] means P[char_i = \"c3\"|char_{i-2} = \"c1\", char_{i-1} = \"c2\"]\n",
        "\n",
        "    \"\"\"\n",
        "\n",
        "    trigram_counts = {}\n",
        "\n",
        "    for name in corpus:\n",
        "        padded_name = [\"<s>\"] * (len(name) - 2) + name\n",
        "        for i in range(2, len(padded_name)):\n",
        "            trigram = (padded_name[i-2], padded_name[i-1], padded_name[i])\n",
        "            if trigram[0] not in trigram_counts:\n",
        "                trigram_counts[trigram[0]] = {}\n",
        "\n",
        "            if trigram[1] not in trigram_counts[trigram[0]]:\n",
        "                trigram_counts[trigram[0]][trigram[1]] = {}\n",
        "\n",
        "            trigram_counts[trigram[0]][trigram[1]][trigram[2]] = trigram_counts[trigram[0]][trigram[1]].get(trigram[2], 0) + 1\n",
        "\n",
        "    return trigram_counts\n"
      ]
    },
    {
      "cell_type": "code",
      "execution_count": null,
      "metadata": {
        "id": "PzrZT7KdWvyh"
      },
      "outputs": [],
      "source": [
        "from collections import defaultdict, Counter\n",
        "import random\n",
        "\n",
        "class NGramLanguageModel(object):\n",
        "    def __init__(self, train_text):\n",
        "        \"\"\"\n",
        "        Initialize and train the model with train_text.\n",
        "\n",
        "        Args:\n",
        "            train_text [list of list]: list of tokenized names\n",
        "        \"\"\"\n",
        "        self.train_text = train_text\n",
        "        self.vocab = build_vocab(train_text)\n",
        "        self.n = None  # Set n-gram order during training\n",
        "        self.ngram_counts = defaultdict(Counter)  # Initialize n-gram counts\n",
        "\n",
        "        # Train the model\n",
        "        self.train(train_text)\n",
        "\n",
        "    def train(self, train_text):\n",
        "        \"\"\"\n",
        "        Train the language model with the given text.\n",
        "\n",
        "        Args:\n",
        "            train_text [list of list]: list of tokenized names\n",
        "        \"\"\"\n",
        "        # Determine the n-gram order based on the length of the tokenized names\n",
        "        max_name_length = max(len(name) for name in train_text)\n",
        "        if max_name_length <= 1:\n",
        "            self.n = 1  # Unigram model\n",
        "        elif max_name_length == 2:\n",
        "            self.n = 2  # Bigram model\n",
        "        elif max_name_length == 3:\n",
        "            self.n = 3  # Trigram model\n",
        "        else:\n",
        "            self.n = 3  # For simplicity, use trigram model for names longer than 3 characters\n",
        "\n",
        "        # Count n-grams in the training text\n",
        "        for name in train_text:\n",
        "            self.count_ngrams(name)\n",
        "\n",
        "    def count_ngrams(self, name):\n",
        "        \"\"\"\n",
        "        Count n-grams in a given name.\n",
        "\n",
        "        Args:\n",
        "            name [list of str]: tokenized name\n",
        "        \"\"\"\n",
        "        # Pad the name with start-of-sequence and end-of-sequence tokens\n",
        "        padded_name = [START] * (self.n - 1) + name + [END]\n",
        "\n",
        "        # Count n-grams\n",
        "        for i in range(len(padded_name) - self.n + 1):\n",
        "            ngram = tuple(padded_name[i:i + self.n])\n",
        "            self.ngram_counts[ngram[:-1]][ngram[-1]] += 1\n",
        "\n",
        "    def get_next_char_probabilities(self, *args):\n",
        "        \"\"\"\n",
        "        Returns a probability distribution over all characters in the vocabulary\n",
        "        given the previous character(s), based on the value of n.\n",
        "\n",
        "        Args:\n",
        "            *args: previous character(s)\n",
        "\n",
        "        Returns:\n",
        "            probabilities [dict]: probability distribution over characters\n",
        "        \"\"\"\n",
        "        if self.n == 1:\n",
        "            # Unigram model\n",
        "            if len(args) != 0:\n",
        "                raise ValueError(\"Unigram model does not require any previous character.\")\n",
        "            total_count = sum(self.ngram_counts[()].values())\n",
        "            probabilities = {char: count / total_count for char, count in self.ngram_counts[()].items()}\n",
        "        elif self.n == 2:\n",
        "            # Bigram model\n",
        "            if len(args) != 1:\n",
        "                raise ValueError(\"Bigram model requires exactly one previous character.\")\n",
        "            char = args[0]\n",
        "            if char not in self.ngram_counts:\n",
        "                return {}\n",
        "            total_count = sum(self.ngram_counts[char].values())\n",
        "            probabilities = {next_char: count / total_count for next_char, count in self.ngram_counts[char].items()}\n",
        "        elif self.n == 3:\n",
        "            # Trigram model\n",
        "            if len(args) != 2:\n",
        "                raise ValueError(\"Trigram model requires exactly two previous characters.\")\n",
        "            prev_chars = args\n",
        "            if prev_chars not in self.ngram_counts:\n",
        "                return {}\n",
        "            total_count = sum(self.ngram_counts[prev_chars].values())\n",
        "            probabilities = {char: count / total_count for char, count in self.ngram_counts[prev_chars].items()}\n",
        "        else:\n",
        "            raise ValueError(\"Unsupported value of n.\")\n",
        "        return probabilities\n",
        "\n",
        "    def get_name_log_probability(self, name):\n",
        "        \"\"\"\n",
        "        Calculates the log probability of name according to the language model\n",
        "\n",
        "        Args:\n",
        "            name [list]: list of tokens\n",
        "\n",
        "        Returns:\n",
        "            log_prob [float]: Log probability of the given name\n",
        "        \"\"\"\n",
        "        log_prob = 0.0\n",
        "        padded_name = [START] * (self.n - 1) + name + [END]\n",
        "        for i in range(len(padded_name) - self.n + 1):\n",
        "            ngram = tuple(padded_name[i:i + self.n])\n",
        "            prev_chars = ngram[:-1]\n",
        "            next_char = ngram[-1]\n",
        "            if prev_chars not in self.ngram_counts or next_char not in self.ngram_counts[prev_chars]:\n",
        "                return float('-inf')  # Return negative infinity for unknown n-grams\n",
        "            log_prob += math.log(self.get_next_char_probabilities(*prev_chars)[next_char])\n",
        "        return log_prob\n",
        "\n",
        "    def get_perplexity(self, text):\n",
        "        \"\"\"\n",
        "        Returns the perplexity of the model on a text as a float.\n",
        "\n",
        "        Args:\n",
        "            text [list]: a list of string tokens\n",
        "\n",
        "        Returns:\n",
        "            perplexity [float]: perplexity of the given text\n",
        "        \"\"\"\n",
        "        # Calculate the log probability of the text\n",
        "        log_prob_sum = sum(self.get_name_log_probability(name) for name in text)\n",
        "\n",
        "        # Calculate perplexity using log probabilities\n",
        "        perplexity = math.exp(-log_prob_sum / len(text))\n",
        "        return perplexity\n",
        "\n",
        "    def generate_names(self, k, n=MAX_NAME_LENGTH, prefix=None):\n",
        "        \"\"\"\n",
        "        Given a prefix, generate k names according to the model.\n",
        "        The default prefix is None.\n",
        "        You may stop the generation when n tokens have been generated,\n",
        "        or when you encounter the END token.\n",
        "\n",
        "        Args:\n",
        "            k [int]: Number of names to generate\n",
        "            n [int]: Maximum length (number of tokens) in the generated name\n",
        "            prefix [list of tokens]: Prefix after which the names have to be generated\n",
        "\n",
        "        Returns:\n",
        "            names [list[str]]: list of generated names\n",
        "        \"\"\"\n",
        "        names = []\n",
        "        for _ in range(k):\n",
        "            generated_name = []\n",
        "            if prefix is None:\n",
        "                prefix = [START] * (self.n - 1)\n",
        "            else:\n",
        "                prefix = [START] * (self.n - len(prefix)) + prefix\n",
        "            for _ in range(n):\n",
        "                next_char_probabilities = self.get_next_char_probabilities(*prefix)\n",
        "                if not next_char_probabilities:\n",
        "                    break\n",
        "                next_char = random.choices(list(next_char_probabilities.keys()),\n",
        "                                           list(next_char_probabilities.values()))[0]\n",
        "                if next_char == END:\n",
        "                    break\n",
        "                generated_name.append(next_char)\n",
        "                prefix = (prefix + [next_char])[1:]\n",
        "            names.append(''.join(generated_name))\n",
        "        return names\n",
        "\n",
        "    def get_most_likely_chars(self, sequence, k):\n",
        "        \"\"\"\n",
        "        Given a sequence of characters, outputs k most likely characters after the sequence.\n",
        "\n",
        "        Args:\n",
        "            sequence [list[str]]: list of characters\n",
        "            k [int]: number of most likely characters to return\n",
        "\n",
        "        Returns:\n",
        "            chars [list[str]]: *Ordered* list of most likely characters\n",
        "                        (with charcater at index 0 being the most likely and\n",
        "                        character at index k-1 being the least likely)\n",
        "\n",
        "        \"\"\"\n",
        "        prefix = sequence[-(self.n - 1):] if len(sequence) >= self.n - 1 else [START] * (self.n - len(sequence)) + sequence\n",
        "        next_char_probabilities = self.get_next_char_probabilities(*prefix)\n",
        "        most_likely_chars = sorted(next_char_probabilities, key=lambda x: next_char_probabilities[x], reverse=True)[:k]\n",
        "        return most_likely_chars\n"
      ]
    },
    {
      "cell_type": "code",
      "source": [
        "## Please do not change anything in this code block.\n",
        "\n",
        "def check_validity(model, ngram, is_neural):\n",
        "    \"\"\"\n",
        "    Checks if get_next_char_probabilities returns a valid probability distribution\n",
        "    \"\"\"\n",
        "\n",
        "    if ngram==1 or is_neural:\n",
        "        P = model.get_next_char_probabilities()\n",
        "        is_valid = validate_probability_distribution(P.values())\n",
        "        if not is_valid:\n",
        "            return is_valid\n",
        "\n",
        "    elif ngram==2:\n",
        "        P = model.get_next_char_probabilities()\n",
        "        for char1 in P.keys():\n",
        "            is_valid = validate_probability_distribution(list(P[char1].values()))\n",
        "            if not is_valid:\n",
        "                return is_valid\n",
        "\n",
        "    elif ngram==3:\n",
        "        P = model.get_next_char_probabilities()\n",
        "        for char1 in P.keys():\n",
        "            for char2 in P[char1].keys():\n",
        "                is_valid = validate_probability_distribution(list(P[char1][char2].values()))\n",
        "                if not is_valid:\n",
        "                    return is_valid\n",
        "    else:\n",
        "        print(\"Enter a valid number for ngram\")\n",
        "\n",
        "    return True\n",
        "\n",
        "\n",
        "def validate_probability_distribution(probs):\n",
        "    \"\"\"\n",
        "    Checks if probs is a valid probability distribution\n",
        "    \"\"\"\n",
        "    if not min(probs) >= 0:\n",
        "        print(\"Negative value in probabilities\")\n",
        "        return False\n",
        "    elif not max(probs) <= 1 + 1e-8:\n",
        "        print(\"Value larger than 1 in probabilities\")\n",
        "        return False\n",
        "    elif not abs(sum(probs)-1) < 1e-4:\n",
        "        print(\"probabilities do not sum to 1\")\n",
        "        return False\n",
        "    return True\n",
        "\n",
        "\n",
        "def eval_ngram_model(model, ngram, ds, ds_name, eval_prefixes, eval_sequences, num_names=5, is_neural=False):\n",
        "    \"\"\"\n",
        "    Runs the following evaluations on n-gram models:\n",
        "    (1) checks if probability distribution returned by model.get_next_char_probabilities() sums to one\n",
        "    (2) checks the perplexity of the model\n",
        "    (3) generates names using model.generate_names()\n",
        "    (4) generates names given a prefix using model.generate_names()\n",
        "    (4) output most likely characters after a given sequence of chars using model.get_most_likely_chars()\n",
        "    \"\"\"\n",
        "\n",
        "    # (1) checks if probability distributions sum to one\n",
        "    is_valid = check_validity(model=model, ngram=ngram, is_neural=is_neural)\n",
        "    print(f'EVALUATION probability distribution is valid: {is_valid}')\n",
        "\n",
        "    # (2) evaluate the perplexity of the model on the dataset\n",
        "    print(f'EVALUATION of {ngram}-gram on {ds_name} perplexity:',\n",
        "        model.get_perplexity(ds))\n",
        "\n",
        "    # (3) generate a few names\n",
        "    generated_names = \", \".join(model.generate_names(k=num_names))\n",
        "    print(f'EVALUATION {ngram}-gram generated names are {generated_names}')\n",
        "\n",
        "    # (4) generate a few names given a prefix\n",
        "    for prefix in eval_prefixes:\n",
        "        generated_names_with_prefix = \", \".join(model.generate_names(k=num_names, prefix=prefix))\n",
        "        prefix = ''.join(prefix)\n",
        "        print(f'EVALUATION {ngram}-gram generated names with prefix {prefix} are {generated_names_with_prefix}')\n",
        "\n",
        "    # (5) get most likely characters after a sequence\n",
        "    for sequence in eval_sequences:\n",
        "        most_likely_chars = \", \".join(model.get_most_likely_chars(sequence=sequence, k=num_names))\n",
        "        sequence = \"\".join(sequence)\n",
        "        print(f\"EVALUATION {ngram}-gram top most likely chars after {sequence} are {most_likely_chars}\")"
      ],
      "metadata": {
        "id": "brl9eamN5aql"
      },
      "execution_count": null,
      "outputs": []
    },
    {
      "cell_type": "markdown",
      "metadata": {
        "id": "gIePKuk-eGQm"
      },
      "source": [
        "## 1.1 Unigram"
      ]
    },
    {
      "cell_type": "code",
      "execution_count": null,
      "metadata": {
        "id": "9s9IXffIMmaa"
      },
      "outputs": [],
      "source": [
        "class UnigramModel(NGramLanguageModel):\n",
        "    def __init__(self, train_text):\n",
        "        \"\"\"\n",
        "        Initialize and train the model with train_text.\n",
        "\n",
        "        Args:\n",
        "            train_text [list of list]: list of tokenized names\n",
        "        \"\"\"\n",
        "        super().__init__(train_text)\n",
        "        self.ngram_counts[()] = get_unigram_counts(train_text)\n",
        "\n",
        "    def get_next_char_probabilities(self):\n",
        "        \"\"\"\n",
        "        Return a dictionary of probabilities for each char in the vocabulary\n",
        "\n",
        "        Returns:\n",
        "            key: char, value: probability\n",
        "        \"\"\"\n",
        "        total_count = sum(self.ngram_counts[()].values())\n",
        "        next_char_probabilities = {char: count / total_count for char, count in self.ngram_counts[()].items()}\n",
        "        return next_char_probabilities\n",
        "\n",
        "    def get_name_log_probability(self, name):\n",
        "        \"\"\"\n",
        "        Calculates the log probability of name according to the n-gram model\n",
        "\n",
        "        Args:\n",
        "            name [list]: list of tokens\n",
        "\n",
        "        Returns:\n",
        "            Log probability of the name [float]\n",
        "        \"\"\"\n",
        "        log_prob = sum(math.log(self.get_next_char_probabilities().get(char, 1e-10)) for char in name)\n",
        "        return log_prob\n",
        "\n",
        "    def get_perplexity(self, text):\n",
        "        \"\"\"\n",
        "        Returns the perplexity of the model on a text as a float.\n",
        "\n",
        "        Args:\n",
        "            text [list]: a list of string tokens\n",
        "\n",
        "        Returns:\n",
        "            perplexity of the given text [float]\n",
        "        \"\"\"\n",
        "        log_prob_sum = sum(self.get_name_log_probability(name) for name in text)\n",
        "        perplexity = math.exp(-log_prob_sum / sum(len(name) for name in text))\n",
        "        return perplexity\n",
        "\n",
        "    def generate_names(self, k, n=MAX_NAME_LENGTH, prefix=None):\n",
        "        \"\"\"\n",
        "        Given a prefix, generate k names according to the model.\n",
        "        The default prefix is None.\n",
        "\n",
        "        Args:\n",
        "            k [int]: Number of names to generate\n",
        "            n [int]: Maximum length (number of tokens) in the generated name\n",
        "            prefix [list of tokens]: Prefix after which the names have to be generated\n",
        "\n",
        "        Returns:\n",
        "            list of generated names [list]\n",
        "        \"\"\"\n",
        "        names = []\n",
        "        for _ in range(k):\n",
        "            generated_name = []\n",
        "            char_probabilities = self.get_next_char_probabilities()\n",
        "            while len(generated_name) < n:\n",
        "                char = random.choices(list(char_probabilities.keys()), weights=list(char_probabilities.values()))[0]\n",
        "                if char == END:\n",
        "                    break\n",
        "                generated_name.append(char)\n",
        "            names.append(''.join(generated_name))  # Join characters into a single string\n",
        "        return names\n",
        "\n",
        "    def get_most_likely_chars(self, sequence, k):\n",
        "        \"\"\"\n",
        "        Given a sequence of characters, outputs k most likely characters after the sequence.\n",
        "\n",
        "        Args:\n",
        "            sequence [list[str]]: list of characters\n",
        "            k [int]: number of most likely characters to return\n",
        "\n",
        "        Returns:\n",
        "            chars [list[str]]: *Ordered* list of most likely characters\n",
        "                        (with charcater at index 0 being the most likely and\n",
        "                        character at index k-1 being the least likely)\n",
        "\n",
        "        \"\"\"\n",
        "        char_probabilities = self.get_next_char_probabilities()\n",
        "        sorted_chars = sorted(char_probabilities.keys(), key=lambda x: char_probabilities[x], reverse=True)\n",
        "        return sorted_chars[:k]\n"
      ]
    },
    {
      "cell_type": "code",
      "source": [
        "unigram_model = UnigramModel(train_text)\n",
        "print(f\"probs: {unigram_model.generate_names(5)}\")"
      ],
      "metadata": {
        "colab": {
          "base_uri": "https://localhost:8080/"
        },
        "id": "dNCVpBa8Le0w",
        "outputId": "9d609768-791b-47e2-e208-fce400154e2b"
      },
      "execution_count": null,
      "outputs": [
        {
          "output_type": "stream",
          "name": "stdout",
          "text": [
            "probs: ['lraa<s>dbpnen', 'a<s>naknpa<s>g<s>', 'ial<s>ahhesaa', 'ual', 'd<s>ilroo<s>aha']\n"
          ]
        }
      ]
    },
    {
      "cell_type": "markdown",
      "metadata": {
        "id": "kPcVNCYDfwFz"
      },
      "source": [
        "### Eval"
      ]
    },
    {
      "cell_type": "markdown",
      "source": [
        "**Note**: For models without smoothing, you may observe perplexity as `inf` if the validation or test set contains characters not seen in the train set\n",
        "However, this should not happen for models where you implement smoothing."
      ],
      "metadata": {
        "id": "hBPe6h00gJlr"
      }
    },
    {
      "cell_type": "code",
      "source": [
        "## Please do not change anything in this code block.\n",
        "\n",
        "unigram_model = UnigramModel(train_text)\n",
        "\n",
        "# Check the perplexity of the unigram model on the train set\n",
        "print('unigram train perplexity:',\n",
        "      unigram_model.get_perplexity(train_text))"
      ],
      "metadata": {
        "id": "RQYB_iVW7PWQ",
        "colab": {
          "base_uri": "https://localhost:8080/"
        },
        "outputId": "6e7222da-d3a7-4eb2-a99a-ce10466bfa71"
      },
      "execution_count": null,
      "outputs": [
        {
          "output_type": "stream",
          "name": "stdout",
          "text": [
            "unigram train perplexity: 16.623900007096303\n"
          ]
        }
      ]
    },
    {
      "cell_type": "code",
      "source": [
        "## Please do not change anything in this code block.\n",
        "\n",
        "eval_ngram_model(model=unigram_model, ngram=1, ds=validation_text, ds_name='validation', eval_prefixes=eval_prefixes, eval_sequences=eval_sequences, num_names=5)"
      ],
      "metadata": {
        "id": "uwZDmVL77j5b",
        "colab": {
          "base_uri": "https://localhost:8080/"
        },
        "outputId": "506306c2-6306-4815-faf3-92c6e25391a3"
      },
      "execution_count": null,
      "outputs": [
        {
          "output_type": "stream",
          "name": "stdout",
          "text": [
            "EVALUATION probability distribution is valid: True\n",
            "EVALUATION of 1-gram on validation perplexity: 53.21745105778266\n",
            "EVALUATION 1-gram generated names are u, sdas<s>s, tpkajnpeidl, , edn<s>s\n",
            "EVALUATION 1-gram generated names with prefix <s><s>sh are , <s>i, s, nso, \n",
            "EVALUATION 1-gram top most likely chars after <s><s>aa are a, <s>, </s>, i, n\n"
          ]
        }
      ]
    },
    {
      "cell_type": "markdown",
      "metadata": {
        "id": "64KYOJh2hCHS"
      },
      "source": [
        "### Smoothing\n",
        "\n",
        "Implement a smoothed version of the unigram model. You may extend the `UnigramModel` class and re-use some of the functions.  For unigram model, you should implement Add-1 smoothing.\n",
        "\n",
        "You may refer to the lecture slides or [3.5 Smoothing](https://web.stanford.edu/~jurafsky/slp3/3.pdf) for details on different smoothing technqiues.\n"
      ]
    },
    {
      "cell_type": "code",
      "execution_count": null,
      "metadata": {
        "id": "eefDQsXyWipv"
      },
      "outputs": [],
      "source": [
        "class SmoothedUnigramModel(UnigramModel):\n",
        "    def __init__(self, train_text):\n",
        "        super().__init__(train_text)\n",
        "        # Additional step to ensure smoothing is applied to all vocab items\n",
        "        self.adjust_counts_for_smoothing()\n",
        "\n",
        "    def adjust_counts_for_smoothing(self):\n",
        "        # Adjust the counts for each character in the vocab, including unseen characters\n",
        "        for char in self.vocab.get_itos():\n",
        "            self.ngram_counts[()][char] = self.ngram_counts[()].get(char, 0) + 1\n",
        "\n",
        "        # Adjust the total count to account for the added counts\n",
        "        self.total_count = sum(self.ngram_counts[()].values())\n",
        "\n",
        "    def get_next_char_probabilities(self):\n",
        "        # Calculate the probability of each character\n",
        "        total_vocab_size = len(self.vocab.get_itos())  # Ensure this includes all possible characters\n",
        "        next_char_probabilities = {char: count / self.total_count for char, count in self.ngram_counts[()].items()}\n",
        "        return next_char_probabilities\n"
      ]
    },
    {
      "cell_type": "code",
      "execution_count": null,
      "metadata": {
        "id": "ISM9uM2H8K7O",
        "colab": {
          "base_uri": "https://localhost:8080/"
        },
        "outputId": "1f324422-818b-4d52-c4b6-37b9ee3f5764"
      },
      "outputs": [
        {
          "output_type": "stream",
          "name": "stdout",
          "text": [
            "smoothed unigram train perplexity: 16.669321820978315\n"
          ]
        }
      ],
      "source": [
        "## Please do not change anything in this code block.\n",
        "\n",
        "smoothed_unigram_model = SmoothedUnigramModel(train_text)\n",
        "\n",
        "# Check the perplexity of the smoothed unigram model on the train set\n",
        "print('smoothed unigram train perplexity:',\n",
        "      smoothed_unigram_model.get_perplexity(train_text))"
      ]
    },
    {
      "cell_type": "code",
      "execution_count": null,
      "metadata": {
        "id": "PuawSvP58K7P",
        "colab": {
          "base_uri": "https://localhost:8080/"
        },
        "outputId": "665defe2-09d5-4b3a-f3a5-1651f0a973ce"
      },
      "outputs": [
        {
          "output_type": "stream",
          "name": "stdout",
          "text": [
            "EVALUATION probability distribution is valid: True\n",
            "EVALUATION of 1-gram on validation perplexity: 25.488899811273047\n",
            "EVALUATION 1-gram generated names are r<s>aaa<s>, k, kipt, , n<s>pauiua<s>s\n",
            "EVALUATION 1-gram generated names with prefix <s><s>sh are j, aaslasija, dedyrmltsr<s>, , \n",
            "EVALUATION 1-gram top most likely chars after <s><s>aa are a, <s>, </s>, i, n\n"
          ]
        }
      ],
      "source": [
        "## Please do not change anything in this code block.\n",
        "\n",
        "eval_ngram_model(model=smoothed_unigram_model, ngram=1, ds=validation_text, ds_name='validation', eval_prefixes=eval_prefixes, eval_sequences=eval_sequences,  num_names=5)"
      ]
    },
    {
      "cell_type": "code",
      "source": [
        "# Release models we don't need any more.\n",
        "del unigram_model\n",
        "del smoothed_unigram_model"
      ],
      "metadata": {
        "id": "qYdm3Ox09g96"
      },
      "execution_count": null,
      "outputs": []
    },
    {
      "cell_type": "markdown",
      "metadata": {
        "id": "TZOZ_XnseIXP"
      },
      "source": [
        "## 1.2 Bigram"
      ]
    },
    {
      "cell_type": "code",
      "execution_count": null,
      "metadata": {
        "id": "pwJflAiVaM36"
      },
      "outputs": [],
      "source": [
        "\"\"\"\n",
        "Implementation of a Bigram Model.\n",
        "\"\"\"\n",
        "\n",
        "class BigramModel(NGramLanguageModel):\n",
        "    def __init__(self, train_text):\n",
        "        \"\"\"\n",
        "        Initialise and train the model with train_text.\n",
        "\n",
        "        Args:\n",
        "            train_text [list of list]: list of tokenised names\n",
        "        \"\"\"\n",
        "\n",
        "        # ADD YOUR CODE HERE\n",
        "        self.train_text =  train_text\n",
        "        self.bi_char_counts = get_bigram_counts(train_text)\n",
        "        vocab = dict()\n",
        "\n",
        "        for key, value in self.bi_char_counts.items():\n",
        "            vocab[key] = set(value.keys())\n",
        "        self.vocab = vocab\n",
        "        outer_key_sums = {key: sum(value.values()) for key, value in self.bi_char_counts.items()}\n",
        "        prob = {}\n",
        "        for outer_key, inner_dict in self.bi_char_counts.items():\n",
        "            prob[outer_key] = {inner_key: value / outer_key_sums[outer_key] for inner_key, value in inner_dict.items()}\n",
        "        self.char_probs = prob\n",
        "\n",
        "\n",
        "    def get_next_char_probabilities(self):\n",
        "        \"\"\"\n",
        "        Returns a probability distribution over all chars in the vocabulary.\n",
        "        Probability distribution should sum to one.\n",
        "\n",
        "        Returns:\n",
        "            P: dictionary or nested dictionary; Output format depends on n-gram\n",
        "            Examples:\n",
        "                for N=2 (bigram); dict[key:bigram_char1, value:dict[key:bigram_char2,value:probability of bigram]]\n",
        "                    > P[\"a\"][\"b\"] = 0.0001 (which stands of P(\"b\"|\"a\"))\n",
        "        \"\"\"\n",
        "\n",
        "        # ADD YOUR CODE HERE\n",
        "        outer_key_sums = {key: sum(value.values()) for key, value in self.bi_char_counts.items()}\n",
        "        prob = {}\n",
        "        for outer_key, inner_dict in self.bi_char_counts.items():\n",
        "            prob[outer_key] = {inner_key: value / outer_key_sums[outer_key] for inner_key, value in inner_dict.items()}\n",
        "\n",
        "        return prob\n",
        "\n",
        "\n",
        "    def get_name_log_probability(self, name):\n",
        "        \"\"\"\n",
        "        Calculates the log probability of name according to the n-gram model.\n",
        "        Be careful with cases for which probability of the name is zero.\n",
        "\n",
        "        Args:\n",
        "            name [list]: list of tokens\n",
        "\n",
        "        Returns:\n",
        "            Log probability of the name [float]\n",
        "        \"\"\"\n",
        "\n",
        "        # ADD YOUR CODE HERE\n",
        "        log_prob = 0.0\n",
        "\n",
        "        for i in range(len(name)-1):\n",
        "            char1= name[i]\n",
        "            char2 = name[i+1]\n",
        "            if char1 in self.char_probs:\n",
        "                if char2 in self.char_probs[char1]:\n",
        "                    log_prob += np.log(self.char_probs[char1].get(char2,0))\n",
        "\n",
        "        return log_prob\n",
        "\n",
        "\n",
        "\n",
        "    def get_perplexity(self, text):\n",
        "        \"\"\"\n",
        "        Returns the perplexity of the model on a text as a float.\n",
        "\n",
        "        Args:\n",
        "            text [list]: a list of string tokens\n",
        "\n",
        "        Returns:\n",
        "            perplexity of the given text [float]\n",
        "        \"\"\"\n",
        "\n",
        "        # ADD YOUR CODE HERE\n",
        "        log_prob =0.0\n",
        "        n=0\n",
        "        for name in text:\n",
        "            log_prob += self.get_name_log_probability(name)\n",
        "            n += len(name)\n",
        "\n",
        "        perplexity = math.exp(-log_prob/n)\n",
        "        return perplexity\n",
        "\n",
        "    def sample_from_unigram(self,name,temperature):\n",
        "        unigram_model = UnigramModel(train_text)\n",
        "        return unigram_model.sample_next_char(name,temperature)\n",
        "\n",
        "    def sample_next_char (self,name, temperature):\n",
        "        prev_char = name[-1]\n",
        "        next_char_probs = self.char_probs.get(prev_char, {})\n",
        "        if temperature > 0.0:\n",
        "            probs = [p ** (1 / temperature) for p in next_char_probs.values()]\n",
        "            sum_probs = sum(probs)\n",
        "            probs = [p / sum_probs for p in probs]\n",
        "        else:\n",
        "            probs = next_char_probs.values()\n",
        "\n",
        "        # Sample a next character\n",
        "        next_char = random.choices(list(next_char_probs.keys()), weights=probs)[0]\n",
        "\n",
        "        # Ensure the sampled character is valid\n",
        "        if next_char not in self.vocab[prev_char]:\n",
        "            next_char = random.choice(list(self.vocab[prev_char]))\n",
        "\n",
        "        return next_char\n",
        "\n",
        "\n",
        "\n",
        "    def generate_names(self, k, n=MAX_NAME_LENGTH, prefix=None):\n",
        "        \"\"\"\n",
        "        Given a prefix, generate k names according to the model.\n",
        "        The default prefix is None.\n",
        "\n",
        "        Args:\n",
        "            k [int]: Number of names to generate\n",
        "            n [int]: Maximum length (number of tokens) in the generated name\n",
        "            prefix [list of tokens]: Prefix after which the names have to be generated\n",
        "\n",
        "        Returns:\n",
        "            list of generated names [list]\n",
        "        \"\"\"\n",
        "\n",
        "        # ADD YOUR CODE HERE\n",
        "        names= []\n",
        "        for _ in range(k):\n",
        "            if prefix:\n",
        "                if prefix[-1] == '</s>':\n",
        "                    prefix = prefix[:-1]\n",
        "                name=prefix\n",
        "            else:\n",
        "                name=['<s>']\n",
        "            while len(name) <n and name[-1]!='</s>':\n",
        "                next_char = self.sample_next_char(name,0.5)\n",
        "                if next_char == \"<unk>\":\n",
        "                    next_char = self.sample_from_unigram(name,0.5)\n",
        "                name.append(next_char)\n",
        "            names.append(name)\n",
        "        generated_name = [''.join(sublist) for sublist in names]\n",
        "        return generated_name\n",
        "\n",
        "\n",
        "    def get_most_likely_chars(self, sequence, k):\n",
        "        \"\"\"\n",
        "        Given a sequence of characters, outputs k most likely characters after the sequence.\n",
        "\n",
        "        Args:\n",
        "            sequence [list[str]]: list of characters\n",
        "            k [int]: number of most likely characters to return\n",
        "\n",
        "        Returns:\n",
        "            chars [list[str]]: *Ordered* list of most likely characters\n",
        "                        (with charcater at index 0 being the most likely and\n",
        "                        character at index k-1 being the least likely)\n",
        "\n",
        "        \"\"\"\n",
        "        # ADD YOUR CODE HERE\n",
        "        last_char = sequence[-1]\n",
        "        next_char_probs = self.char_probs.get(last_char, {})\n",
        "        valid_chars = self.vocab[last_char]\n",
        "        next_char_probs = {char: prob for char, prob in next_char_probs.items() if char in valid_chars}\n",
        "        sorted_chars = sorted(next_char_probs, key=next_char_probs.get, reverse=True)\n",
        "        most_likely_chars = sorted_chars[:k]\n",
        "\n",
        "        return most_likely_chars"
      ]
    },
    {
      "cell_type": "markdown",
      "metadata": {
        "id": "OUIOOq0DjR2A"
      },
      "source": [
        "### Eval"
      ]
    },
    {
      "cell_type": "code",
      "execution_count": null,
      "metadata": {
        "id": "FH3ETGRIcinT",
        "colab": {
          "base_uri": "https://localhost:8080/"
        },
        "outputId": "d490159b-99e9-4342-b8c8-15197d9bdcc7"
      },
      "outputs": [
        {
          "output_type": "stream",
          "name": "stdout",
          "text": [
            "bigram train perplexity: 9.886271551428392\n"
          ]
        }
      ],
      "source": [
        "## Please do not change anything in this code block.\n",
        "\n",
        "bigram_model = BigramModel(train_text)\n",
        "\n",
        "# check the perplexity of the bigram model on training data\n",
        "print('bigram train perplexity:',\n",
        "      bigram_model.get_perplexity(train_text))"
      ]
    },
    {
      "cell_type": "code",
      "source": [
        "## Please do not change anything in this code block.\n",
        "\n",
        "eval_ngram_model(model=bigram_model, ngram=2, ds=validation_text, ds_name='validation', eval_prefixes=eval_prefixes, eval_sequences=eval_sequences, num_names=5)"
      ],
      "metadata": {
        "id": "2BN8phEn8i0k",
        "colab": {
          "base_uri": "https://localhost:8080/"
        },
        "outputId": "74bd6363-d99e-4343-d942-e947a8593e09"
      },
      "execution_count": null,
      "outputs": [
        {
          "output_type": "stream",
          "name": "stdout",
          "text": [
            "EVALUATION probability distribution is valid: True\n",
            "EVALUATION of 2-gram on validation perplexity: 6.9449719290471075\n",
            "EVALUATION 2-gram generated names are <s><s><s><s><s><s><s><s>bi</s>, <s><s><s><s><s><s><s><s><s><s><s>, <s><s><s><s><s><s><s><s><s><s><s>, <s><s><s><s><s><s><s><s><s><s><s>, <s><s><s><s><s><s><s><s><s><s><s>\n",
            "EVALUATION 2-gram generated names with prefix <s><s>shal</s> are <s><s>shal</s>, <s><s>shallalan, <s><s>shallalan, <s><s>shallalan, <s><s>shallalan\n",
            "EVALUATION 2-gram top most likely chars after <s><s>aa are </s>, n, r, m, l\n"
          ]
        }
      ]
    },
    {
      "cell_type": "markdown",
      "metadata": {
        "id": "rLmvdpBohH6G"
      },
      "source": [
        "### Smoothing\n",
        "\n",
        "Implement a smoothed version of the bigram model. You may extend the `BigramModel` class and re-use some of the functions.\n",
        "\n",
        "You will implement the following smoothing techniques:\n",
        "-  Laplace or add-k smoothing\n",
        "- Interpolation\n"
      ]
    },
    {
      "cell_type": "markdown",
      "metadata": {
        "id": "-kj-gNsX08jC"
      },
      "source": [
        "**Laplace or Add-k smoothing**\n",
        "- what is the effect of changing `k`?"
      ]
    },
    {
      "cell_type": "code",
      "source": [
        "\"\"\"choose your hyperparameter and see the difference in performance\"\"\"\n",
        "\n",
        "# ADD YOUR CODE HERE\n",
        "\n",
        "# CHANGE THE None VALUES TO YOUR DESIRED VALUES\n",
        "# Please feel free to play with these hyperparameters to see the effects on the\n",
        "# quality of generated names and perplexity\n",
        "\n",
        "BIGRAM_LAPLACE_K = 0.9 # value of k for add-k or Laplac smoothing in bigram models"
      ],
      "metadata": {
        "id": "s22-fpeT4bgU"
      },
      "execution_count": null,
      "outputs": []
    },
    {
      "cell_type": "code",
      "execution_count": null,
      "metadata": {
        "id": "nHsod0DXfEx8"
      },
      "outputs": [],
      "source": [
        "\"\"\"\n",
        "Implementation of a bigram model with laplace or add-k smoothing.\n",
        "\n",
        "\"\"\"\n",
        "\n",
        "class LaplaceSmoothedBigramModel(BigramModel):\n",
        "    # This class extends BigramModel.\n",
        "\n",
        "    def __init__(self, train_text, k):\n",
        "        super().__init__(train_text)\n",
        "        self.k = k # specify k for smoothing\n",
        "\n",
        "    # You should override ONLY those functions\n",
        "    # which calculate probability of a bigram.\n",
        "    # You can override get_next_char_probabilities\n",
        "    # or any other helper functions you use in BigramModel\n",
        "    # to calculate bigram probabilities.\n",
        "\n",
        "    # ADD YOUR CODE HERE\n",
        "\n",
        "    def get_name_log_probability(self, name):\n",
        "        log_prob = 0.0\n",
        "        char_probs = self.get_next_char_probabilities()\n",
        "        for i in range(len(name) - 1):\n",
        "            char1 = name[i]\n",
        "            char2 = name[i + 1]\n",
        "            if char1 not in char_probs:\n",
        "                continue\n",
        "            if char2 not in char_probs[char1]:\n",
        "                total = sum(char_probs[char1].values())\n",
        "                log_prob += np.log(self.k/total + self.k*len(self.vocab[char1]))\n",
        "            else:\n",
        "                log_prob += np.log(char_probs[char1][char2])\n",
        "        return log_prob"
      ]
    },
    {
      "cell_type": "code",
      "execution_count": null,
      "metadata": {
        "id": "2Hu1YFQxjWvz",
        "colab": {
          "base_uri": "https://localhost:8080/"
        },
        "outputId": "17629bc7-f932-44ca-f1ec-bd02d394156d"
      },
      "outputs": [
        {
          "output_type": "stream",
          "name": "stdout",
          "text": [
            "smoothed bigram train perplexity: 9.886271551428392\n"
          ]
        }
      ],
      "source": [
        "## Please do not change anything in this code block.\n",
        "\n",
        "smoothed_bigram_model = LaplaceSmoothedBigramModel(train_text, k=BIGRAM_LAPLACE_K)\n",
        "\n",
        "# check the perplexity of the bigram model on training data\n",
        "print('smoothed bigram train perplexity:',\n",
        "      smoothed_bigram_model.get_perplexity(train_text))"
      ]
    },
    {
      "cell_type": "code",
      "source": [
        "## Please do not change anything in this code block.\n",
        "\n",
        "eval_ngram_model(model=smoothed_bigram_model, ngram=2, ds=validation_text, ds_name='validation', eval_prefixes=eval_prefixes, eval_sequences=eval_sequences, num_names=5)"
      ],
      "metadata": {
        "id": "bR0Su_WS8uhm",
        "colab": {
          "base_uri": "https://localhost:8080/"
        },
        "outputId": "b6db07b0-e060-497b-b3bd-63e4104b224e"
      },
      "execution_count": null,
      "outputs": [
        {
          "output_type": "stream",
          "name": "stdout",
          "text": [
            "EVALUATION probability distribution is valid: True\n",
            "EVALUATION of 2-gram on validation perplexity: 5.78673835687362\n",
            "EVALUATION 2-gram generated names are <s><s><s><s><s><s><s><s><s><s><s>, <s><s><s><s><s><s><s><s><s><s><s>, <s><s><s><s><s><s><s><s><s><s><s>, <s><s><s><s><s><s><s><s><s><s><s>, <s><s><s><s><s><s><s><s><s><s><s>\n",
            "EVALUATION 2-gram generated names with prefix <s><s>shal</s> are <s><s>shali</s>, <s><s>shalishat, <s><s>shalishat, <s><s>shalishat, <s><s>shalishat\n",
            "EVALUATION 2-gram top most likely chars after <s><s>aa are </s>, n, r, m, l\n"
          ]
        }
      ]
    },
    {
      "cell_type": "markdown",
      "metadata": {
        "id": "s4fhvedn1A0e"
      },
      "source": [
        "**Interpolation**\n",
        "- what are good values for `lambdas` in interpolation?"
      ]
    },
    {
      "cell_type": "code",
      "execution_count": null,
      "metadata": {
        "id": "MICCLx7yxxg-"
      },
      "outputs": [],
      "source": [
        "\"\"\"choose your hyperparameter and see the difference in performance\"\"\"\n",
        "\n",
        "# ADD YOUR CODE HERE\n",
        "\n",
        "# CHANGE THE None VALUES TO YOUR DESIRED VALUES\n",
        "# Please feel free to play with these hyperparameters to see the effects on the\n",
        "# quality of generated names and perplexity\n",
        "\n",
        "BIGRAM_LAMBDAS = (0.9, 0.1) # lambdas for interpolation smoothing in bigram models"
      ]
    },
    {
      "cell_type": "code",
      "execution_count": null,
      "metadata": {
        "id": "oDxCF6oayhc_"
      },
      "outputs": [],
      "source": [
        "\"\"\"\n",
        "Implementation of a bigram model with interpolation smoothing\n",
        "\"\"\"\n",
        "\n",
        "class InterpolationSmoothedBigramModel(BigramModel):\n",
        "\n",
        "    def __init__(self, train_text, lambdas):\n",
        "        super().__init__(train_text)\n",
        "        self.lambda_1, self.lambda_2 = lambdas\n",
        "\n",
        "    # You should override ONLY those functions\n",
        "    # which calculate probability of a bigram.\n",
        "    # You can override get_next_char_probabilities\n",
        "    # or any other helper functions you use in BigramModel\n",
        "    # to calculate bigram probabilities.\n",
        "\n",
        "    # ADD YOUR CODE HERE\n",
        "    def get_name_log_probability(self, name):\n",
        "        log_prob = 0.0\n",
        "        char_probs = self.get_next_char_probabilities()\n",
        "        for i in range(len(name) - 1):\n",
        "            char1 = name[i]\n",
        "            char2 = name[i + 1]\n",
        "            if char1 not in char_probs or char2 not in char_probs[char1]:\n",
        "                prob_char1 = 1 / len(self.vocab)  # uniform\n",
        "                prob_char2_given_char1 = 1 / len(self.vocab)  # uniform  bigrams\n",
        "                log_prob += np.log(self.lambda_1 * prob_char1 + self.lambda_2 * prob_char2_given_char1)\n",
        "            else:\n",
        "                log_prob += np.log(char_probs[char1][char2])\n",
        "        return log_prob"
      ]
    },
    {
      "cell_type": "code",
      "source": [
        "## Please do not change anything in this code block.\n",
        "\n",
        "smoothed_bigram_model = InterpolationSmoothedBigramModel(train_text, lambdas=BIGRAM_LAMBDAS)\n",
        "\n",
        "# check the perplexity of the bigram model on training data\n",
        "print('smoothed bigram train perplexity:',\n",
        "      smoothed_bigram_model.get_perplexity(train_text))"
      ],
      "metadata": {
        "id": "KOcXbCHE87nR",
        "colab": {
          "base_uri": "https://localhost:8080/"
        },
        "outputId": "6d2292f8-75d6-4491-e063-7ef99f608ace"
      },
      "execution_count": null,
      "outputs": [
        {
          "output_type": "stream",
          "name": "stdout",
          "text": [
            "smoothed bigram train perplexity: 9.886271551428392\n"
          ]
        }
      ]
    },
    {
      "cell_type": "code",
      "source": [
        "## Please do not change anything in this code block.\n",
        "\n",
        "eval_ngram_model(model=smoothed_bigram_model, ngram=2, ds=validation_text, ds_name='validation', eval_prefixes=eval_prefixes, eval_sequences=eval_sequences, num_names=5)"
      ],
      "metadata": {
        "id": "cTbTOynX86dl",
        "colab": {
          "base_uri": "https://localhost:8080/"
        },
        "outputId": "856fc88c-bf1c-4338-e2bb-b2452173351e"
      },
      "execution_count": null,
      "outputs": [
        {
          "output_type": "stream",
          "name": "stdout",
          "text": [
            "EVALUATION probability distribution is valid: True\n",
            "EVALUATION of 2-gram on validation perplexity: 10.356411073095366\n",
            "EVALUATION 2-gram generated names are <s><s><s><s><s><s><s><s><s><s><s>, <s><s><s><s><s><s><s><s><s><s><s>, <s><s><s><s><s><s><s><s><s><s><s>, <s><s><s><s><s><s><s><s><s><s><s>, <s><s><s><s><s><s><s><s><s><s><s>\n",
            "EVALUATION 2-gram generated names with prefix <s><s>shal</s> are <s><s>shala</s>, <s><s>shalan</s>, <s><s>shalandi</s>, <s><s>shalandi</s>, <s><s>shalandi</s>\n",
            "EVALUATION 2-gram top most likely chars after <s><s>aa are </s>, n, r, m, l\n"
          ]
        }
      ]
    },
    {
      "cell_type": "code",
      "source": [
        "print(1)\n",
        "model = InterpolationSmoothedBigramModel(train_text, lambdas=(0.9, 0.1))\n",
        "probabilities_1 = model.get_next_char_probabilities()\n",
        "eval_ngram_model(model=smoothed_bigram_model, ngram=2, ds=validation_text, ds_name='validation', eval_prefixes=eval_prefixes, eval_sequences=eval_sequences, num_names=5)\n",
        "\n",
        "print(2)\n",
        "model = InterpolationSmoothedBigramModel(train_text, lambdas=(0.5, 0.5))\n",
        "probabilities_2 = model.get_next_char_probabilities()\n",
        "eval_ngram_model(model=smoothed_bigram_model, ngram=2, ds=validation_text, ds_name='validation', eval_prefixes=eval_prefixes, eval_sequences=eval_sequences, num_names=5)\n",
        "\n",
        "print(3)\n",
        "model = InterpolationSmoothedBigramModel(train_text, lambdas=(0.1, 0.9))\n",
        "probabilities_3 = model.get_next_char_probabilities()\n",
        "eval_ngram_model(model=smoothed_bigram_model, ngram=2, ds=validation_text, ds_name='validation', eval_prefixes=eval_prefixes, eval_sequences=eval_sequences, num_names=5)\n",
        "char = 'a'  # Example character\n",
        "print(probabilities_1.get(char))\n",
        "print(probabilities_2.get(char))\n",
        "print(probabilities_3.get(char))\n"
      ],
      "metadata": {
        "colab": {
          "base_uri": "https://localhost:8080/"
        },
        "id": "z6xu0A0A1tmO",
        "outputId": "e2bc56d9-1b53-481f-cc79-e3850a2128bd"
      },
      "execution_count": null,
      "outputs": [
        {
          "output_type": "stream",
          "name": "stdout",
          "text": [
            "1\n",
            "EVALUATION probability distribution is valid: True\n",
            "EVALUATION of 2-gram on validation perplexity: 10.356411073095366\n",
            "EVALUATION 2-gram generated names are <s><s><s><s><s><s><s><s><s><s><s>, <s><s><s><s><s><s><s><s><s><s><s>, <s><s><s><s><s><s><s><s><s><s><s>, <s><s><s><s><s><s><s><s><s><s><s>, <s><s><s><s><s><s><s><s><s><s><s>\n",
            "EVALUATION 2-gram generated names with prefix <s><s>shal</s> are <s><s>shal</s>, <s><s>shal</s>, <s><s>shalan</s>, <s><s>shalana</s>, <s><s>shalanar</s>\n",
            "EVALUATION 2-gram top most likely chars after <s><s>aa are </s>, n, r, m, l\n",
            "2\n",
            "EVALUATION probability distribution is valid: True\n",
            "EVALUATION of 2-gram on validation perplexity: 10.356411073095366\n",
            "EVALUATION 2-gram generated names are <s><s><s><s><s><s><s><s><s><s><s>, <s><s><s><s><s><s><s><s><s><s><s>, <s><s><s><s><s><s><s><s><s><s><s>, <s><s><s><s><s><s><s><s><s><s><s>, <s><s><s><s><s><s><s><s><s><s><s>\n",
            "EVALUATION 2-gram generated names with prefix <s><s>shal</s> are <s><s>shala</s>, <s><s>shala</s>, <s><s>shala</s>, <s><s>shalanal</s>, <s><s>shalanal</s>\n",
            "EVALUATION 2-gram top most likely chars after <s><s>aa are </s>, n, r, m, l\n",
            "3\n",
            "EVALUATION probability distribution is valid: True\n",
            "EVALUATION of 2-gram on validation perplexity: 10.356411073095366\n",
            "EVALUATION 2-gram generated names are <s><s><s><s><s><s><s><s><s><s><s>, <s><s><s><s><s><s><s><s><s><s><s>, <s><s><s><s><s><s><s><s><s><s><s>, <s><s><s><s><s><s><s><s><s><s><s>, <s><s><s><s><s><s><s><s><s><s><s>\n",
            "EVALUATION 2-gram generated names with prefix <s><s>shal</s> are <s><s>shala</s>, <s><s>shala</s>, <s><s>shalanana, <s><s>shalanana, <s><s>shalanana\n",
            "EVALUATION 2-gram top most likely chars after <s><s>aa are </s>, n, r, m, l\n",
            "{'a': 0.020858682426560055, 'b': 0.03285242482183209, '</s>': 0.1993742395272032, 'c': 0.004693203545976013, 'l': 0.06952894142186686, 'd': 0.02833304362941074, 'e': 0.0010429341213280027, 'f': 0.009038762384842691, 'g': 0.012862854163045367, 'n': 0.17590822179732313, 'h': 0.027985398922301407, 'j': 0.036328871892925434, 'k': 0.03563358247870676, 'r': 0.10811750391100296, 's': 0.05040848253085347, 'm': 0.08795411089866156, 't': 0.04171736485312011, 'y': 0.018946636537458716, 'p': 0.0073005388492960194, 'i': 0.02190161654788806, 'u': 0.008169650617069354, 'o': 0.00017382235355466714, '&': 0.00017382235355466714, '/': 0.0003476447071093343, ')': 0.00017382235355466714, ',': 0.00017382235355466714}\n",
            "{'a': 0.020858682426560055, 'b': 0.03285242482183209, '</s>': 0.1993742395272032, 'c': 0.004693203545976013, 'l': 0.06952894142186686, 'd': 0.02833304362941074, 'e': 0.0010429341213280027, 'f': 0.009038762384842691, 'g': 0.012862854163045367, 'n': 0.17590822179732313, 'h': 0.027985398922301407, 'j': 0.036328871892925434, 'k': 0.03563358247870676, 'r': 0.10811750391100296, 's': 0.05040848253085347, 'm': 0.08795411089866156, 't': 0.04171736485312011, 'y': 0.018946636537458716, 'p': 0.0073005388492960194, 'i': 0.02190161654788806, 'u': 0.008169650617069354, 'o': 0.00017382235355466714, '&': 0.00017382235355466714, '/': 0.0003476447071093343, ')': 0.00017382235355466714, ',': 0.00017382235355466714}\n",
            "{'a': 0.020858682426560055, 'b': 0.03285242482183209, '</s>': 0.1993742395272032, 'c': 0.004693203545976013, 'l': 0.06952894142186686, 'd': 0.02833304362941074, 'e': 0.0010429341213280027, 'f': 0.009038762384842691, 'g': 0.012862854163045367, 'n': 0.17590822179732313, 'h': 0.027985398922301407, 'j': 0.036328871892925434, 'k': 0.03563358247870676, 'r': 0.10811750391100296, 's': 0.05040848253085347, 'm': 0.08795411089866156, 't': 0.04171736485312011, 'y': 0.018946636537458716, 'p': 0.0073005388492960194, 'i': 0.02190161654788806, 'u': 0.008169650617069354, 'o': 0.00017382235355466714, '&': 0.00017382235355466714, '/': 0.0003476447071093343, ')': 0.00017382235355466714, ',': 0.00017382235355466714}\n"
          ]
        }
      ]
    },
    {
      "cell_type": "code",
      "source": [
        "# Release models we don't need any more.\n",
        "del bigram_model\n",
        "del smoothed_bigram_model"
      ],
      "metadata": {
        "id": "qjSDZS0s9lZi"
      },
      "execution_count": null,
      "outputs": []
    },
    {
      "cell_type": "markdown",
      "metadata": {
        "id": "WjVndxFa1iGi"
      },
      "source": [
        "## 1.3 Trigram (smoothed)"
      ]
    },
    {
      "cell_type": "code",
      "execution_count": null,
      "metadata": {
        "id": "Dw_rGQSDMC6S"
      },
      "outputs": [],
      "source": [
        "\"\"\"choose your hyperparameter and see the difference in performance\"\"\"\n",
        "\n",
        "# ADD YOUR CODE HERE\n",
        "\n",
        "# CHANGE THE None VALUES TO YOUR DESIRED VALUES\n",
        "# Please feel free to play with these hyperparameters to see the effects on the\n",
        "# quality of generated names and perplexity\n",
        "\n",
        "TRIGRAM_LAMBDAS = (0.1, 0.3, 0.6) # lambdas for interpolation smoothing in trigram models\n",
        "lambda_1=0.1\n",
        "lambda_2=0.3\n",
        "lambda_3=0.6"
      ]
    },
    {
      "cell_type": "code",
      "execution_count": null,
      "metadata": {
        "id": "vagtEVtp1kLN"
      },
      "outputs": [],
      "source": [
        "\"\"\"\n",
        "Implementaion of a Trigram Model with interpolation smoothing.\n",
        "\"\"\"\n",
        "class TrigramModel(NGramLanguageModel):\n",
        "    def __init__(self, train_text):\n",
        "        \"\"\"\n",
        "        Initialise and train the model with train_text.\n",
        "\n",
        "        Args:\n",
        "            train_text [list of list]: list of tokenised names\n",
        "        \"\"\"\n",
        "\n",
        "        # ADD YOUR CODE HERE\n",
        "        self.train_text = train_text\n",
        "        self.char_counts = get_trigram_counts(train_text)\n",
        "        vocab =get_trigram_counts(train_text)\n",
        "        for key, value in vocab.items():\n",
        "            for inner_key, inner_value in value.items():\n",
        "                if isinstance(inner_value, dict):\n",
        "                    vocab[key][inner_key] = set(inner_value.keys())\n",
        "        self.vocab=vocab\n",
        "\n",
        "        total_counts =get_trigram_counts(train_text)\n",
        "        for outer_key,outer_val  in self.char_counts.items():\n",
        "            #print(outer_val)\n",
        "            for inner_key,inner_val in self.char_counts[outer_key].items():\n",
        "                #print(inner_val)\n",
        "                if isinstance(inner_val, dict):\n",
        "                    total_counts[outer_key][inner_key] = sum(inner_val.values())\n",
        "        self.total= total_counts\n",
        "\n",
        "        char_probs = get_trigram_counts(train_text)\n",
        "        for outer_key,outer_val in char_probs.items():\n",
        "            #print(outer_val)\n",
        "            for inner_key,inner_val in char_probs[outer_key].items():\n",
        "                #print(inner_val)\n",
        "                if isinstance(inner_val, dict):\n",
        "                    for key,value in char_probs[outer_key][inner_key].items():\n",
        "                        #print(value)\n",
        "                        char_probs[outer_key][inner_key][key] = value/self.total[outer_key][inner_key]\n",
        "        self.char_probs = char_probs\n",
        "\n",
        "\n",
        "\n",
        "\n",
        "    def get_next_char_probabilities(self):\n",
        "        \"\"\"\n",
        "        Returns a probability distribution over all chars in the vocabulary.\n",
        "        Probability distribution should sum to one.\n",
        "\n",
        "        Returns:\n",
        "            P: dictionary or nested dictionary; Output format depends on n-gram\n",
        "            Examples:\n",
        "                for N=1 (unigram); dict[key:unigram,value:probability of unigram]\n",
        "                    > P[\"a\"] = 0.0001\n",
        "                for N=2 (bigram); dict[key:bigram_char1, value:dict[key:bigram_char2,value:probability of bigram]]\n",
        "                    > P[\"a\"][\"b\"] = 0.0001 (corresponding to P(b|a))\n",
        "                for N=3 (trigram); dict[dict[dict]]\n",
        "                    > P[\"a\"][\"b\"][\"c\"] = 0.0001 (corresponding to P(c|ab))\n",
        "        \"\"\"\n",
        "\n",
        "        # ADD YOUR CODE HERE\n",
        "\n",
        "        return self.char_probs\n",
        "\n",
        "\n",
        "    def get_name_log_probability(self, name):\n",
        "        \"\"\"\n",
        "        Calculates the log probability of name according to the n-gram model.\n",
        "        Be careful with cases for which probability of the name is zero.\n",
        "\n",
        "        Args:\n",
        "            name [list]: list of tokens\n",
        "\n",
        "        Returns:\n",
        "            Log probability of the name [float]\n",
        "        \"\"\"\n",
        "\n",
        "        # ADD YOUR CODE HERE\n",
        "        log_prob = 0.0\n",
        "        char_probs = self.get_next_char_probabilities()\n",
        "\n",
        "        for i in range(len(name) - 2):\n",
        "            char1 = name[i]\n",
        "            char2 = name[i + 1]\n",
        "            char3 = name[i + 2]\n",
        "\n",
        "            if char1 not in char_probs or char2 not in char_probs[char1] or char3 not in char_probs[char1][char2]:\n",
        "\n",
        "                prob_char1 = 1 / len(self.vocab)\n",
        "                prob_char2_given_char1 = 1 / len(self.vocab)\n",
        "                prob_char3_given_char1_char2 = 1 / len(self.vocab)\n",
        "                log_prob += np.log(lambda_1 * prob_char1 + lambda_2 * prob_char2_given_char1 + lambda_3 * prob_char3_given_char1_char2)\n",
        "            else:\n",
        "                log_prob += np.log(char_probs[char1][char2][char3])\n",
        "\n",
        "        return log_prob\n",
        "\n",
        "\n",
        "\n",
        "    def get_perplexity(self, text):\n",
        "        \"\"\"\n",
        "        Returns the perplexity of the model on a text as a float.\n",
        "\n",
        "        Args:\n",
        "            text [list]: a list of string tokens\n",
        "\n",
        "        Returns:\n",
        "            perplexity of the given text [float]\n",
        "        \"\"\"\n",
        "\n",
        "        # ADD YOUR CODE HERE\n",
        "        log_prob =0.0\n",
        "        n=0\n",
        "        for name in text:\n",
        "            log_prob += self.get_name_log_probability(name)\n",
        "            n += len(name)\n",
        "\n",
        "        perplexity = math.exp(-log_prob/n)\n",
        "        return perplexity\n",
        "\n",
        "\n",
        "    def sample_next_char (self,name, temperature):\n",
        "        prev_char = name[-1]\n",
        "        prev_prev_char = name[-2]\n",
        "\n",
        "        temp = self.char_probs.get(prev_prev_char, {})\n",
        "\n",
        "        next_char_probs = temp.get(prev_char,{})\n",
        "\n",
        "        if temperature > 0.0:\n",
        "            probs = [p ** (1 / temperature) for p in next_char_probs.values()]\n",
        "            sum_probs = sum(probs)\n",
        "            probs = [p / sum_probs for p in probs]\n",
        "        else:\n",
        "            probs = next_char_probs.values()\n",
        "\n",
        "        # Sample a next character\n",
        "        next_char = random.choices(list(next_char_probs.keys()), weights=probs)[0]\n",
        "\n",
        "        # Ensure the sampled character is valid\n",
        "        if next_char not in self.vocab[prev_prev_char][prev_char]:\n",
        "            next_char = random.choice(list(self.vocab[prev_char]))\n",
        "\n",
        "        return next_char\n",
        "\n",
        "    def sample_from_bigram(self,name,temperature):\n",
        "        unigram_model = BigramModel(train_text)\n",
        "        return unigram_model.sample_next_char(name,temperature)\n",
        "\n",
        "    def generate_names(self, k, n=MAX_NAME_LENGTH, prefix=None):\n",
        "        \"\"\"\n",
        "        Given a prefix, generate k names according to the model.\n",
        "        The default prefix is None.\n",
        "\n",
        "        Args:\n",
        "            k [int]: Number of names to generate\n",
        "            n [int]: Maximum length (number of tokens) in the generated name\n",
        "            prefix [list of tokens]: Prefix after which the names have to be generated\n",
        "\n",
        "        Returns:\n",
        "            list of generated names [list]\n",
        "        \"\"\"\n",
        "\n",
        "        # ADD YOUR CODE HERE\n",
        "        names= []\n",
        "        for _ in range(k):\n",
        "            if prefix:\n",
        "                if prefix[-1] == '</s>':\n",
        "                    prefix = prefix[:-1]\n",
        "                name=prefix\n",
        "            else:\n",
        "                name=['<s>']\n",
        "                next_c = self.sample_from_bigram(name,0.5)\n",
        "                name.append(next_c)\n",
        "            while len(name) <n and name[-1]!='</s>':\n",
        "                next_char = self.sample_next_char(name,0.5)\n",
        "                if next_char == \"<unk>\":\n",
        "                    next_char = self.sample_from_bigram(name,0.5)\n",
        "                name.append(next_char)\n",
        "            names.append(name)\n",
        "        generated_name = [''.join(sublist) for sublist in names]\n",
        "        return generated_name\n",
        "\n",
        "    def get_most_likely_chars(self, sequence, k):\n",
        "        \"\"\"\n",
        "        Given a sequence of characters, outputs k most likely characters after the sequence.\n",
        "\n",
        "        Args:\n",
        "            sequence [list[str]]: list of characters\n",
        "            k [int]: number of most likely characters to return\n",
        "\n",
        "        Returns:\n",
        "            chars [list[str]]: *Ordered* list of most likely characters\n",
        "                        (with charcater at index 0 being the most likely and\n",
        "                        character at index k-1 being the least likely)\n",
        "\n",
        "        \"\"\"\n",
        "        # ADD YOUR CODE HERE\n",
        "        last_char = sequence[-1]\n",
        "        last_last_char = sequence[-2]\n",
        "        next_char_probs = self.char_probs.get(last_last_char, {}).get(last_char,{})\n",
        "        valid_chars = self.vocab[last_last_char][last_char]\n",
        "        next_char_probs = {char: prob for char, prob in next_char_probs.items() if char in valid_chars}\n",
        "        sorted_chars = sorted(next_char_probs, key=next_char_probs.get, reverse=True)\n",
        "        most_likely_chars = sorted_chars[:k]\n",
        "\n",
        "        return most_likely_chars\n",
        "\n"
      ]
    },
    {
      "cell_type": "markdown",
      "metadata": {
        "id": "PKzFQN7BLNet"
      },
      "source": [
        "#### Eval"
      ]
    },
    {
      "cell_type": "code",
      "execution_count": null,
      "metadata": {
        "id": "Z1VPc3Y1C_f2",
        "colab": {
          "base_uri": "https://localhost:8080/"
        },
        "outputId": "9aecd4f0-e454-4bfc-a577-6c1f87f8e6aa"
      },
      "outputs": [
        {
          "output_type": "stream",
          "name": "stdout",
          "text": [
            "trigram train perplexity: 4.298966505162752\n"
          ]
        }
      ],
      "source": [
        "## Please do not change anything in this code block.\n",
        "\n",
        "trigram_model = TrigramModel(train_text)\n",
        "\n",
        "print('trigram train perplexity:',\n",
        "      trigram_model.get_perplexity(train_text))"
      ]
    },
    {
      "cell_type": "code",
      "source": [
        "## Please do not change anything in this code block.\n",
        "\n",
        "eval_ngram_model(model=trigram_model, ngram=3, ds=validation_text, ds_name='validation', eval_prefixes=eval_prefixes, eval_sequences=eval_sequences, num_names=5)"
      ],
      "metadata": {
        "id": "CzmJeanF9MV1",
        "colab": {
          "base_uri": "https://localhost:8080/"
        },
        "outputId": "8a9694bd-68f5-4af4-d9c7-af6269fa6911"
      },
      "execution_count": null,
      "outputs": [
        {
          "output_type": "stream",
          "name": "stdout",
          "text": [
            "EVALUATION probability distribution is valid: True\n",
            "EVALUATION of 3-gram on validation perplexity: 5.178486767038496\n",
            "EVALUATION 3-gram generated names are <s>na</s>, <s><s><s><s><s><s><s><s><s><s><s>, <s><s><s><s><s><s><s><s><s><s><s>, <s><s><s><s><s><s><s><s><s><s><s>, <s><s><s><s><s><s><s><s><s><s><s>\n",
            "EVALUATION 3-gram generated names with prefix <s><s>shal</s> are <s><s>shal</s>, <s><s>shala</s>, <s><s>shalakesh, <s><s>shalakesh, <s><s>shalakesh\n",
            "EVALUATION 3-gram top most likely chars after <s><s>aa are n, s, r, l, m\n"
          ]
        }
      ]
    },
    {
      "cell_type": "code",
      "source": [
        "# Release models we don't need any more.\n",
        "del trigram_model"
      ],
      "metadata": {
        "id": "CO8n8Nfw9qSN"
      },
      "execution_count": null,
      "outputs": []
    },
    {
      "cell_type": "markdown",
      "source": [
        "# Module 2: Neural Language Modelling"
      ],
      "metadata": {
        "id": "IIY6joZm4U7Q"
      }
    },
    {
      "cell_type": "markdown",
      "metadata": {
        "id": "RR0QIMEkZFnc"
      },
      "source": [
        "## 2.1 Neural N-gram Language Model\n",
        "\n",
        "For this part of the assignment, you should use the GPU (you can do this by changing the runtime of this notebook).\n",
        "\n",
        "In this section, you will implement a neural version of an n-gram model.  The model will use a simple feedforward neural network that takes the previous `n-1` chars and outputs a distribution over the next char.\n",
        "\n",
        "You will use PyTorch to implement the model.  We've provided a little bit of code to help with the data loading using [PyTorch's data loaders](https://pytorch.org/docs/stable/data.html)"
      ]
    },
    {
      "cell_type": "code",
      "execution_count": null,
      "metadata": {
        "id": "KzMvPQ-2V_hZ"
      },
      "outputs": [],
      "source": [
        "# Import the necessary libraries\n",
        "\n",
        "import math\n",
        "import time\n",
        "import random\n",
        "import os, sys\n",
        "import json\n",
        "from functools import partial\n",
        "\n",
        "from tqdm import tqdm\n",
        "import torch\n",
        "import torch.nn as nn\n",
        "\n",
        "from matplotlib import pyplot as plt\n",
        "import numpy as np"
      ]
    },
    {
      "cell_type": "code",
      "execution_count": null,
      "metadata": {
        "id": "CvfDLLQO6Hrc"
      },
      "outputs": [],
      "source": [
        "## Please do not change anything in this code block.\n",
        "\n",
        "def collate_ngram(batch, text_pipeline):\n",
        "    \"\"\"\n",
        "    Converts the text in the batch to tokens\n",
        "    and maps the tokens to indices in the vocab.\n",
        "    The text in the batch is a list of ngrams\n",
        "    i.e. if N=3, then text contains 3 tokens in a list\n",
        "    and batch is a list of such texts.\n",
        "\n",
        "    Returns:\n",
        "        batch_input [pytorch tensor]:\n",
        "            input for n-gram model with size batch_size*(ngram-1)\n",
        "        batch_output [pytorch tensor]:\n",
        "            output for n-gram model with size batch_size\n",
        "    \"\"\"\n",
        "\n",
        "    batch_input, batch_output = [], []\n",
        "    for text in batch:\n",
        "        token_id_sequence = text_pipeline(text)\n",
        "        # last token is the output, and\n",
        "        #  pervious ngram-1 tokens are inputs\n",
        "        output = token_id_sequence.pop()\n",
        "        input = token_id_sequence\n",
        "        batch_input.append(input)\n",
        "        batch_output.append(output)\n",
        "\n",
        "    # Convert lists to PyTorch tensors and moves to the gpu (if using)\n",
        "    batch_input = torch.tensor(batch_input, dtype=torch.long)\n",
        "    batch_output = torch.tensor(batch_output, dtype=torch.long)\n",
        "    if USE_CUDA:\n",
        "        batch_input = batch_input.cuda()\n",
        "        batch_output = batch_output.cuda()\n",
        "\n",
        "    return batch_input, batch_output\n",
        "\n",
        "\n",
        "def get_dataloader(input_text, vocab, ngram, batch_size, shuffle):\n",
        "    \"\"\"\n",
        "    Creates a dataloader for the n-gram model which\n",
        "    takes in a list of list of tokens, appends the START token\n",
        "    at the starting of each text, and converts text into ngrams.\n",
        "\n",
        "    Example: For a trigram model, the list of characters are\n",
        "        [\"n\", \"a\", \"v\", \"r\"]\n",
        "    will be converted into lists\n",
        "        [\"n\", \"a\", \"v\"], [\"a\", \"v\", \"r\"]\n",
        "\n",
        "    For each ngram, first ngram-1 tokens are input and last token\n",
        "    is the output. Each token is converted into a index in the vocab.\n",
        "    The dataloader generates a batch of input, output pairs as\n",
        "    pytorch tensors.\n",
        "\n",
        "\n",
        "    Args:\n",
        "        input_text [list[list[str]]]: list of list of tokens\n",
        "        vocab [torchtext.vocab]: vocabulary of the corpus\n",
        "    \"\"\"\n",
        "\n",
        "    ngram_sequences = []\n",
        "    for text in input_text:\n",
        "        if text[0] == START:\n",
        "            text = [START]*(N_GRAM_LENGTH-2) + text\n",
        "        else:\n",
        "            text = [START]*(N_GRAM_LENGTH-1) + text\n",
        "\n",
        "        # Create training pairs for each char in the text\n",
        "        for idx in range(len(text) - ngram + 1):\n",
        "            ngram_sequence = text[idx : (idx + ngram)]\n",
        "            ngram_sequences.append(ngram_sequence)\n",
        "\n",
        "    text_pipeline = lambda x: vocab(x)\n",
        "    collate_fn = collate_ngram\n",
        "\n",
        "    # creates a DataLoader for the dataset\n",
        "\n",
        "    \"\"\"\n",
        "    dataloader documentation\n",
        "    https://pytorch.org/docs/stable/data.html#torch.utils.data.DataLoader\n",
        "    \"\"\"\n",
        "\n",
        "    dataloader = DataLoader(\n",
        "        ngram_sequences,\n",
        "        batch_size=batch_size,\n",
        "        shuffle=shuffle,\n",
        "        collate_fn=partial(collate_fn, text_pipeline=text_pipeline),\n",
        "        )\n",
        "    return dataloader"
      ]
    },
    {
      "cell_type": "markdown",
      "source": [
        "#### FNN Implementation"
      ],
      "metadata": {
        "id": "jgzJr_pRQnyt"
      }
    },
    {
      "cell_type": "markdown",
      "source": [
        "**Feed-forward Neural Language Modelling**\n",
        "\n",
        "Like the n-gram LM, the feedforward neural LM approximates the probability of a char given the entire prior context $P(w_t|w_{1:t−1})$ by approximating based on the $N-1$ previous chars:\n",
        "$$P(w_t|w_1,...,w_{t−1}) ≈ P(w_t|w_{t−N+1},...,w_{t−1})$$\n",
        "\n",
        "\n",
        "Implement the FNN LM given in this paper: [Neural Probabilistic Language Model](https://www.jmlr.org/papers/volume3/bengio03a/bengio03a.pdf)\n",
        "\n",
        "The architecture of the FNN can be described by the equation and figure:\n",
        "\n",
        "$$y = b + W x + U \\text t \\text a \\text n \\text h (d + H x)$$\n",
        "\n",
        "- $x$ is of size $(ngram-1)*m$ where $m$ is the size embedding dimensions\n",
        "- $y$ is of size $V*1$ where $V$ is the vocabulary size\n",
        "\n",
        "![FNN_LM](https://drive.google.com/uc?id=1aQhkXjWelHfiBfmBQV3z5TjHFNMtqtzT)\n",
        "\n",
        "\n",
        "**Some tips**:\n",
        "- embed the chars with dimension $m$ (example, $60$), then flatten into a single embedding for  $n-1$  chars (with size  $(n-1)*m$ )\n",
        "- you can use Adam or Stochastic Gradient Descent (SGD) for optimising the cross entropy loss\n",
        "- If you are using SGD, you may want to use momentum, and a learning rate scheduler\n",
        "- do early stopping based on validation set loss or perplexity\n",
        "\n",
        "**Important**: Fix seed as 42 whenever performing any randomized operations, e.g., initializing ML models."
      ],
      "metadata": {
        "id": "zYXn-sEtWH-A"
      }
    },
    {
      "cell_type": "code",
      "source": [
        "START = '<s>'\n",
        "END = '</s>'"
      ],
      "metadata": {
        "id": "KY53GHT_7snR"
      },
      "execution_count": null,
      "outputs": []
    },
    {
      "cell_type": "code",
      "source": [
        "import torch.nn.functional as F\n",
        "\n",
        "class FNN_LM(nn.Module):\n",
        "\n",
        "    def __init__(self, vocab_size, emb_size, hid_size, ngram):\n",
        "        super(FNN_LM, self).__init__()\n",
        "        self.ngram = ngram\n",
        "\n",
        "        # Embedding layer\n",
        "        self.embedding = nn.Embedding(vocab_size, emb_size)\n",
        "\n",
        "        # Bias parameters\n",
        "        self.output_bias = nn.Parameter(torch.randn(vocab_size, 1))  # Bias for output layer\n",
        "        self.hidden_bias = nn.Parameter(torch.randn(hid_size, 1))  # Bias for hidden layer\n",
        "\n",
        "        # Weight matrices\n",
        "        self.output_weights = nn.Parameter(torch.randn(vocab_size, hid_size))  # Weight matrix for output layer\n",
        "        self.context_weights = nn.Parameter(torch.randn(vocab_size, (ngram - 1) * emb_size))  # Context weight matrix\n",
        "        self.hidden_context_weights = nn.Parameter(torch.randn(hid_size, (ngram - 1) * emb_size))  # Hidden layer context weight matrix\n",
        "\n",
        "        # Additional tensors\n",
        "        self.e = torch.randn(60, 2)\n",
        "        self.w = torch.randn(100, 120)\n",
        "\n",
        "    def forward(self, chars):\n",
        "        \"\"\"\n",
        "        Args:\n",
        "            chars: this is a tensor of inputs with shape [batch_size x ngram-1]\n",
        "\n",
        "        Returns:\n",
        "            logits: a tensor of log probabilities with shape [batch_size x vocab_size]\n",
        "\n",
        "        \"\"\"\n",
        "\n",
        "        embedded = self.embedding(chars).view(chars.size(0), -1)  # Flattening the embeddings\n",
        "        embedded_t = embedded.t()\n",
        "        pad_size = self.hidden_context_weights.size(1) - embedded_t.size(0)\n",
        "\n",
        "        if pad_size > 0:\n",
        "            embedded_t = F.pad(embedded_t, (0, pad_size))\n",
        "\n",
        "        hidden_context_output = torch.mm(self.hidden_context_weights, embedded_t)  # Hx\n",
        "        hidden_context_output = torch.tanh(self.hidden_bias + hidden_context_output)  # tanh(Hx+d)\n",
        "        hidden_context_output = torch.mm(self.output_weights, hidden_context_output)  # Utanh(Hx+d)\n",
        "\n",
        "        pad_size = self.context_weights.size(1) - embedded_t.size(0)\n",
        "        if pad_size > 0:\n",
        "            embedded_t = F.pad(embedded_t, (0, pad_size))\n",
        "\n",
        "        context_output = self.output_bias + torch.mm(self.context_weights, embedded_t)  # b+Wx\n",
        "        combined_output = context_output + hidden_context_output  # b+Wx+Utanh(Hx+d)\n",
        "        logits = combined_output.t()\n",
        "\n",
        "        # Additional operation using tensors e and w\n",
        "        f = torch.flatten(self.e).view(-1, 1)\n",
        "        y = torch.mm(self.w, f)\n",
        "\n",
        "        return logits, y\n"
      ],
      "metadata": {
        "id": "jf6HjLmYUfyg"
      },
      "execution_count": null,
      "outputs": []
    },
    {
      "cell_type": "markdown",
      "source": [
        "**The following is the Trainer class for the FNN LM. Add your code for the `training` and `validation` loops.**"
      ],
      "metadata": {
        "id": "mU8cU_UURhM6"
      }
    },
    {
      "cell_type": "code",
      "source": [
        "!pip install torcheval"
      ],
      "metadata": {
        "colab": {
          "base_uri": "https://localhost:8080/"
        },
        "id": "D9zayrmqvnHh",
        "outputId": "2e515e49-d254-4020-e81e-69d5bc29ceae"
      },
      "execution_count": null,
      "outputs": [
        {
          "output_type": "stream",
          "name": "stdout",
          "text": [
            "Collecting torcheval\n",
            "  Downloading torcheval-0.0.7-py3-none-any.whl (179 kB)\n",
            "\u001b[?25l     \u001b[90m━━━━━━━━━━━━━━━━━━━━━━━━━━━━━━━━━━━━━━━━\u001b[0m \u001b[32m0.0/179.2 kB\u001b[0m \u001b[31m?\u001b[0m eta \u001b[36m-:--:--\u001b[0m\r\u001b[2K     \u001b[91m━━━━━━━━━━━━━━━━━━━━━━━━━━━━━━━━━━━━━━\u001b[0m\u001b[91m╸\u001b[0m\u001b[90m━\u001b[0m \u001b[32m174.1/179.2 kB\u001b[0m \u001b[31m6.2 MB/s\u001b[0m eta \u001b[36m0:00:01\u001b[0m\r\u001b[2K     \u001b[90m━━━━━━━━━━━━━━━━━━━━━━━━━━━━━━━━━━━━━━━━\u001b[0m \u001b[32m179.2/179.2 kB\u001b[0m \u001b[31m4.7 MB/s\u001b[0m eta \u001b[36m0:00:00\u001b[0m\n",
            "\u001b[?25hRequirement already satisfied: typing-extensions in /usr/local/lib/python3.10/dist-packages (from torcheval) (4.9.0)\n",
            "Installing collected packages: torcheval\n",
            "Successfully installed torcheval-0.0.7\n"
          ]
        }
      ]
    },
    {
      "cell_type": "code",
      "source": [
        "from torcheval.metrics.text import Perplexity\n",
        "class NeuralNGramTrainer:\n",
        "    \"\"\"\n",
        "    NeuralNGramTrainer wraps FNN_LM to handle training and evaluation.\n",
        "\n",
        "    \"\"\"\n",
        "\n",
        "    # NOTE: you are free to add additional inputs/functions\n",
        "    # to NeuralNGramTrainer to make training better\n",
        "    # make sure to define and add it within the input\n",
        "    # and initialization if you are using any additional inputs\n",
        "    # for usage in the function\n",
        "\n",
        "    def __init__(\n",
        "        self,\n",
        "        ngram,\n",
        "        model,\n",
        "        optimizer,\n",
        "        criterion,\n",
        "        train_dataloader,\n",
        "        valid_dataloader,\n",
        "        epochs,\n",
        "        use_cuda,\n",
        "        vocab,\n",
        "        model_dir\n",
        "    ):\n",
        "\n",
        "        self.ngram = ngram\n",
        "        self.model = model\n",
        "        self.epochs = epochs\n",
        "        self.optimizer = optimizer\n",
        "        self.criterion = criterion\n",
        "        self.train_dataloader = train_dataloader\n",
        "        self.valid_dataloader = valid_dataloader\n",
        "        self.use_cuda = use_cuda\n",
        "        self.model_dir = model_dir\n",
        "        self.loss = {\"train\": [], \"val\": []}\n",
        "        self.vocab = vocab\n",
        "\n",
        "        # Move the model to GPU if available\n",
        "        if self.use_cuda:\n",
        "            self.model = self.model.cuda()\n",
        "\n",
        "\n",
        "    def train(self):\n",
        "        \"\"\"\n",
        "        Trains the model with train_dataloader and validates using valid_dataloader\n",
        "\n",
        "        \"\"\"\n",
        "        # You may change the input arguments to this function,\n",
        "        # but make sure to also change the code wherever this function is called\n",
        "\n",
        "        # ADD YOUR CODE HERE\n",
        "        # FOR TRAINING & VALIDATION\n",
        "        for epoch in range(self.epochs):\n",
        "            total_loss = 0\n",
        "            for batch_input, batch_output in self.train_dataloader:\n",
        "                if self.use_cuda:\n",
        "                    batch_input, batch_output = batch_input.cuda(), batch_output.cuda()\n",
        "\n",
        "                # Zero the gradients\n",
        "                self.optimizer.zero_grad()\n",
        "\n",
        "                # Forward pass\n",
        "                predictions = self.model(batch_input)\n",
        "\n",
        "                # Calculate loss\n",
        "                loss = self.criterion(predictions, batch_output)\n",
        "\n",
        "                # Backward pass\n",
        "                loss.backward()\n",
        "\n",
        "                # Update weights\n",
        "                self.optimizer.step()\n",
        "\n",
        "                total_loss += loss.item()\n",
        "\n",
        "            # Calculate average training loss for the epoch\n",
        "            avg_loss = total_loss / len(self.train_dataloader)\n",
        "            self.loss['train'].append(avg_loss)\n",
        "\n",
        "            # Validation\n",
        "            val_loss = self.evaluate(self.valid_dataloader)\n",
        "            self.loss['val'].append(val_loss)\n",
        "\n",
        "            print(f\"Epoch {epoch+1}/{self.epochs}, Train Loss: {avg_loss:.4f}, Val Loss: {val_loss:.4f}\")\n",
        "\n",
        "\n",
        "\n",
        "    def evaluate(self,dataloader):\n",
        "        self.model.eval()\n",
        "        total_loss = 0\n",
        "        with torch.no_grad():\n",
        "              for batch_input, batch_output in dataloader:\n",
        "                  if self.use_cuda:\n",
        "                      batch_input, batch_output = batch_input.cuda(), batch_output.cuda()\n",
        "\n",
        "                  predictions = self.model(batch_input)\n",
        "                  loss = self.criterion(predictions, batch_output)\n",
        "                  total_loss += loss.item()\n",
        "\n",
        "        avg_loss = total_loss / len(dataloader)\n",
        "        return avg_loss\n",
        "\n",
        "    def plot_losses(self):\n",
        "        \"\"\"\n",
        "        Plots the training and validation losses\n",
        "        \"\"\"\n",
        "        plt.plot(self.loss['train'], label='train_ppl')\n",
        "        plt.plot(self.loss['val'], label='val_ppl')\n",
        "        plt.legend()\n",
        "        plt.show\n",
        "\n",
        "\n",
        "    def save_model(self):\n",
        "        \"\"\"\n",
        "        Save final model to directory\n",
        "        \"\"\"\n",
        "        model_path = os.path.join(self.model_dir, \"model.pt\")\n",
        "        torch.save(self.model, model_path)\n",
        "\n",
        "    def save_loss(self):\n",
        "        \"\"\"\n",
        "        Save train/val loss as json file to the directory\n",
        "        \"\"\"\n",
        "        loss_path = os.path.join(self.model_dir, \"loss.json\")\n",
        "        with open(loss_path, \"w\") as fp:\n",
        "            json.dump(self.loss, fp)\n",
        "\n",
        "\n",
        "    def get_next_char_probabilities(self):\n",
        "        \"\"\"\n",
        "        Return a dictionary of probabilities for each char in the vocabulary\n",
        "        with a default starting sequence of [START]*(ngram-1)\n",
        "        Example:\n",
        "            If ngram=3, then default starting sequence for which\n",
        "            probabilities have to be returned is\n",
        "            [START, START]\n",
        "\n",
        "        Returns:\n",
        "            dictionary with key: char, value: probability\n",
        "\n",
        "        \"\"\"\n",
        "        # ADD YOUR CODE HERE\n",
        "        # Create starting sequence\n",
        "        self.model.eval()\n",
        "\n",
        "        prefix = [self.vocab.get_stoi()['<s>']] * (self.ngram - 1)\n",
        "\n",
        "        prefix = torch.tensor(prefix).unsqueeze(0)\n",
        "\n",
        "\n",
        "        # print(prefix)\n",
        "        if self.use_cuda:\n",
        "            prefix = prefix.cuda()\n",
        "        logits=self.model(prefix)\n",
        "        probabilities = torch.softmax(logits, dim=1).squeeze().detach().numpy()\n",
        "        next_char_probabilities = dict(zip(self.vocab.get_itos(), probabilities))\n",
        "        return next_char_probabilities\n",
        "\n",
        "\n",
        "\n",
        "\n",
        "    def generate_names(self, k, n=MAX_NAME_LENGTH, prefix=None):\n",
        "        \"\"\"\n",
        "        Given a prefix, generate k names according to the model.\n",
        "        The default prefix is None.\n",
        "\n",
        "        Args:\n",
        "            k [int]: Number of names to generate\n",
        "            n [int]: Maximum length (number of tokens) in the generated name\n",
        "            prefix [list of tokens]: Prefix after which the names have to be generated\n",
        "\n",
        "        Returns:\n",
        "            list of generated names [list[str]]\n",
        "        \"\"\"\n",
        "\n",
        "        # ADD YOUR CODE HERE\n",
        "        self.model.eval()  # Set the model to evaluation mode\n",
        "        generated_names = []\n",
        "\n",
        "        with torch.no_grad():\n",
        "            for _ in range(k):\n",
        "                if prefix:\n",
        "                    if prefix[-1] == END:\n",
        "                        prefix = prefix[:-1]\n",
        "                    if len(prefix) > self.ngram-1:\n",
        "                        prefix_cut = prefix[-(self.ngram-1):]\n",
        "                        prefix_ids = [self.vocab.get_stoi()[char] for char in prefix_cut]\n",
        "                    else:\n",
        "                        prefix_ids = [self.vocab.get_stoi()[char] for char in prefix]\n",
        "                    input_data = torch.tensor(prefix_ids, dtype=torch.long).unsqueeze(0) # Create tensor\n",
        "\n",
        "                else:\n",
        "                    start_sequence = [START] * (self.ngram - 1)  # Generate default starting sequence\n",
        "                    start_sequence_ids = [self.vocab.get_stoi()[char] for char in start_sequence]  # Convert to token IDs\n",
        "                    input_data = torch.tensor(start_sequence_ids, dtype=torch.long).unsqueeze(0) # Gen extra start tokens\n",
        "                if self.use_cuda:\n",
        "                    input_data = input_data.cuda()\n",
        "                name = []\n",
        "\n",
        "                for _ in range(n):\n",
        "                    output = self.model(input_data)\n",
        "                    probabilities = torch.softmax(output, dim=1).squeeze().cpu().numpy()\n",
        "                    next_token_id = np.random.choice(len(self.vocab.get_stoi()), p=probabilities)\n",
        "                    next_char = [char for char, idx in self.vocab.get_stoi().items() if idx == next_token_id][0]\n",
        "                    if next_char ==END:\n",
        "                        break\n",
        "                    name.append(next_char)\n",
        "                    next_token_id_tensor = torch.tensor([[next_token_id]], dtype=torch.long, device=input_data.device)\n",
        "                    input_data = torch.cat((input_data[:, 1:], next_token_id_tensor), dim=1)\n",
        "\n",
        "                if prefix:\n",
        "                        filtered_prefix = [token for token in prefix if token != '<s>']\n",
        "                        name = filtered_prefix+name\n",
        "                generated_names.append(name)\n",
        "            gen_names = [''.join(sublist) for sublist in generated_names]\n",
        "\n",
        "            return gen_names\n",
        "\n",
        "\n",
        "\n",
        "    def get_perplexity(self, text):\n",
        "        \"\"\"\n",
        "        Returns the perplexity of the model on text as a float.\n",
        "\n",
        "        Args:\n",
        "            text [list[list[str]]]: list of tokenised names\n",
        "            > Example:\n",
        "            [['<s>', 'a', 'a', 'b', 'i', 'd', '</s>'],\n",
        "            ['<s>', 'a', 'a', 'b', 'i', 'd', 'a', '</s>']]\n",
        "\n",
        "        Returns:\n",
        "            perplexity [float]\n",
        "\n",
        "        \"\"\"\n",
        "\n",
        "        # ADD YOUR CODE HERE\n",
        "\n",
        "        # you may want to use the dataloader here\n",
        "        # don't forget self.model.eval()\n",
        "        self.model.eval()\n",
        "        total_loss = 0.0\n",
        "        total_tokens = 0\n",
        "        with torch.no_grad():\n",
        "          for batch_input, batch_output in train_dataloader:\n",
        "            output = self.model(batch_input)\n",
        "            batch_output = batch_output.view(-1)\n",
        "            loss = self.criterion(output, batch_output)\n",
        "            total_loss += loss.item() * batch_output.size(0)\n",
        "            total_tokens += batch_output.size(0)\n",
        "\n",
        "        avg_loss = total_loss / total_tokens\n",
        "        perplexity = math.exp(avg_loss)\n",
        "\n",
        "        # END CODE\n",
        "\n",
        "        return perplexity\n",
        "\n",
        "\n",
        "\n",
        "    def get_most_likely_chars(self, sequence, k):\n",
        "        \"\"\"\n",
        "        Given a sequence of characters, outputs k most likely characters after the sequence.\n",
        "\n",
        "        Args:\n",
        "            sequence [list[str]]: list of characters\n",
        "            k [int]: number of most likely characters to return\n",
        "\n",
        "        Returns:\n",
        "            chars [list[str]]: *Ordered* list of most likely characters\n",
        "                        (with charcater at index 0 being the most likely and\n",
        "                        character at index k-1 being the least likely)\n",
        "\n",
        "        \"\"\"\n",
        "\n",
        "        # ADD YOUR CODE HERE\n",
        "\n",
        "        # don't forget self.model.eval()\n",
        "\n",
        "        self.model.eval()\n",
        "        s = sequence.copy()\n",
        "        while (len(s)) < self.ngram-1:\n",
        "          s.insert(0, START)\n",
        "        most_likely=[]\n",
        "        current_sequence = [self.vocab.get_stoi()[char] for char in s][-(self.ngram-1):]\n",
        "        current_sequence_tensor = torch.tensor([current_sequence])\n",
        "        if self.use_cuda:\n",
        "            current_sequence_tensor = current_sequence_tensor.cuda()\n",
        "        #print(current_sequence_tensor)\n",
        "        logits=self.model(current_sequence_tensor)\n",
        "        probabilities = torch.softmax(logits, dim=1).squeeze()\n",
        "        topk_values, topk_indices = torch.topk(probabilities, k)\n",
        "        for i in topk_indices:\n",
        "          most_likely.append(self.vocab.get_itos()[i])\n",
        "        return most_likely\n"
      ],
      "metadata": {
        "id": "7vTGLbaYCXz6"
      },
      "execution_count": null,
      "outputs": []
    },
    {
      "cell_type": "code",
      "execution_count": null,
      "metadata": {
        "id": "LNjAGhY0CXz8",
        "colab": {
          "base_uri": "https://localhost:8080/"
        },
        "outputId": "e7972ac8-2480-4043-d17e-b4a04ef19469"
      },
      "outputs": [
        {
          "output_type": "stream",
          "name": "stdout",
          "text": [
            "GPU is available: False\n"
          ]
        }
      ],
      "source": [
        "\"\"\"choose your hyperparameter and see the difference in performance\"\"\"\n",
        "\n",
        "# ADD YOUR CODE HERE\n",
        "\n",
        "# CHANGE THE None VALUES TO YOUR DESIRED VALUES\n",
        "# Please feel free to play with these hyperparameters to see the effects on the\n",
        "# quality of generated names and perplexity\n",
        "\n",
        "MAX_NAME_LENGTH = 10 # maximum length of name for generation\n",
        "\n",
        "# Remember to fix seed as 42\n",
        "torch.manual_seed(42)\n",
        "\n",
        "# check if GPU is available\n",
        "USE_CUDA = torch.cuda.is_available()\n",
        "print(f\"GPU is available: {USE_CUDA}\")\n",
        "\n",
        "N_GRAM_LENGTH = 5 # The length of the n-gram (N_GRAM_LENGTH=3 for trigram)\n",
        "EMB_SIZE = 60 # The size of the embedding\n",
        "HID_SIZE = 120 # The size of the hidden layer\n",
        "EPOCHS = 10\n",
        "BATCH_SIZE = 64\n",
        "SHUFFLE = True # if dataset should be shuffled"
      ]
    },
    {
      "cell_type": "code",
      "execution_count": null,
      "metadata": {
        "id": "AtObQOzcCXz9",
        "colab": {
          "base_uri": "https://localhost:8080/"
        },
        "outputId": "5b0a8c29-b699-45a9-8470-6efaa2e8b1d5"
      },
      "outputs": [
        {
          "output_type": "stream",
          "name": "stdout",
          "text": [
            "131\n"
          ]
        }
      ],
      "source": [
        "## Please do not change anything in this code block.\n",
        "\n",
        "# Get data iterator and build vocabulary from input text\n",
        "train_text, vocab = get_tokenised_text_and_vocab(ds_type='train')\n",
        "validation_text, _ = get_tokenised_text_and_vocab(ds_type='valid', vocab=vocab)\n",
        "\n",
        "# Check the size of vocabulary\n",
        "vocab_size = len(vocab.get_stoi())\n",
        "print(vocab_size)\n",
        "\n",
        "# Load training and validation dataloaders\n",
        "train_dataloader = get_dataloader(train_text, vocab, ngram = N_GRAM_LENGTH, batch_size=BATCH_SIZE, shuffle=SHUFFLE)\n",
        "valid_dataloader = get_dataloader(validation_text, vocab, ngram = N_GRAM_LENGTH, batch_size=BATCH_SIZE, shuffle=SHUFFLE)"
      ]
    },
    {
      "cell_type": "code",
      "execution_count": null,
      "metadata": {
        "id": "VS8eky0_hVnx",
        "colab": {
          "base_uri": "https://localhost:8080/"
        },
        "outputId": "b2261ab1-bdbe-4385-ab5c-2e07b060213b"
      },
      "outputs": [
        {
          "output_type": "error",
          "ename": "TypeError",
          "evalue": "cross_entropy_loss(): argument 'input' (position 1) must be Tensor, not tuple",
          "traceback": [
            "\u001b[0;31m---------------------------------------------------------------------------\u001b[0m",
            "\u001b[0;31mTypeError\u001b[0m                                 Traceback (most recent call last)",
            "\u001b[0;32m<ipython-input-92-39492e8f1e54>\u001b[0m in \u001b[0;36m<cell line: 40>\u001b[0;34m()\u001b[0m\n\u001b[1;32m     38\u001b[0m \u001b[0;34m\u001b[0m\u001b[0m\n\u001b[1;32m     39\u001b[0m \u001b[0;31m# Train the model\u001b[0m\u001b[0;34m\u001b[0m\u001b[0;34m\u001b[0m\u001b[0m\n\u001b[0;32m---> 40\u001b[0;31m \u001b[0mtrainer\u001b[0m\u001b[0;34m.\u001b[0m\u001b[0mtrain\u001b[0m\u001b[0;34m(\u001b[0m\u001b[0;34m)\u001b[0m\u001b[0;34m\u001b[0m\u001b[0;34m\u001b[0m\u001b[0m\n\u001b[0m\u001b[1;32m     41\u001b[0m \u001b[0mprint\u001b[0m\u001b[0;34m(\u001b[0m\u001b[0;34m\"Training finished.\"\u001b[0m\u001b[0;34m)\u001b[0m\u001b[0;34m\u001b[0m\u001b[0;34m\u001b[0m\u001b[0m\n\u001b[1;32m     42\u001b[0m \u001b[0;34m\u001b[0m\u001b[0m\n",
            "\u001b[0;32m<ipython-input-89-51b18bf31d9b>\u001b[0m in \u001b[0;36mtrain\u001b[0;34m(self)\u001b[0m\n\u001b[1;32m     66\u001b[0m \u001b[0;34m\u001b[0m\u001b[0m\n\u001b[1;32m     67\u001b[0m                 \u001b[0;31m# Calculate loss\u001b[0m\u001b[0;34m\u001b[0m\u001b[0;34m\u001b[0m\u001b[0m\n\u001b[0;32m---> 68\u001b[0;31m                 \u001b[0mloss\u001b[0m \u001b[0;34m=\u001b[0m \u001b[0mself\u001b[0m\u001b[0;34m.\u001b[0m\u001b[0mcriterion\u001b[0m\u001b[0;34m(\u001b[0m\u001b[0mpredictions\u001b[0m\u001b[0;34m,\u001b[0m \u001b[0mbatch_output\u001b[0m\u001b[0;34m)\u001b[0m\u001b[0;34m\u001b[0m\u001b[0;34m\u001b[0m\u001b[0m\n\u001b[0m\u001b[1;32m     69\u001b[0m \u001b[0;34m\u001b[0m\u001b[0m\n\u001b[1;32m     70\u001b[0m                 \u001b[0;31m# Backward pass\u001b[0m\u001b[0;34m\u001b[0m\u001b[0;34m\u001b[0m\u001b[0m\n",
            "\u001b[0;32m/usr/local/lib/python3.10/dist-packages/torch/nn/modules/module.py\u001b[0m in \u001b[0;36m_wrapped_call_impl\u001b[0;34m(self, *args, **kwargs)\u001b[0m\n\u001b[1;32m   1516\u001b[0m             \u001b[0;32mreturn\u001b[0m \u001b[0mself\u001b[0m\u001b[0;34m.\u001b[0m\u001b[0m_compiled_call_impl\u001b[0m\u001b[0;34m(\u001b[0m\u001b[0;34m*\u001b[0m\u001b[0margs\u001b[0m\u001b[0;34m,\u001b[0m \u001b[0;34m**\u001b[0m\u001b[0mkwargs\u001b[0m\u001b[0;34m)\u001b[0m  \u001b[0;31m# type: ignore[misc]\u001b[0m\u001b[0;34m\u001b[0m\u001b[0;34m\u001b[0m\u001b[0m\n\u001b[1;32m   1517\u001b[0m         \u001b[0;32melse\u001b[0m\u001b[0;34m:\u001b[0m\u001b[0;34m\u001b[0m\u001b[0;34m\u001b[0m\u001b[0m\n\u001b[0;32m-> 1518\u001b[0;31m             \u001b[0;32mreturn\u001b[0m \u001b[0mself\u001b[0m\u001b[0;34m.\u001b[0m\u001b[0m_call_impl\u001b[0m\u001b[0;34m(\u001b[0m\u001b[0;34m*\u001b[0m\u001b[0margs\u001b[0m\u001b[0;34m,\u001b[0m \u001b[0;34m**\u001b[0m\u001b[0mkwargs\u001b[0m\u001b[0;34m)\u001b[0m\u001b[0;34m\u001b[0m\u001b[0;34m\u001b[0m\u001b[0m\n\u001b[0m\u001b[1;32m   1519\u001b[0m \u001b[0;34m\u001b[0m\u001b[0m\n\u001b[1;32m   1520\u001b[0m     \u001b[0;32mdef\u001b[0m \u001b[0m_call_impl\u001b[0m\u001b[0;34m(\u001b[0m\u001b[0mself\u001b[0m\u001b[0;34m,\u001b[0m \u001b[0;34m*\u001b[0m\u001b[0margs\u001b[0m\u001b[0;34m,\u001b[0m \u001b[0;34m**\u001b[0m\u001b[0mkwargs\u001b[0m\u001b[0;34m)\u001b[0m\u001b[0;34m:\u001b[0m\u001b[0;34m\u001b[0m\u001b[0;34m\u001b[0m\u001b[0m\n",
            "\u001b[0;32m/usr/local/lib/python3.10/dist-packages/torch/nn/modules/module.py\u001b[0m in \u001b[0;36m_call_impl\u001b[0;34m(self, *args, **kwargs)\u001b[0m\n\u001b[1;32m   1525\u001b[0m                 \u001b[0;32mor\u001b[0m \u001b[0m_global_backward_pre_hooks\u001b[0m \u001b[0;32mor\u001b[0m \u001b[0m_global_backward_hooks\u001b[0m\u001b[0;34m\u001b[0m\u001b[0;34m\u001b[0m\u001b[0m\n\u001b[1;32m   1526\u001b[0m                 or _global_forward_hooks or _global_forward_pre_hooks):\n\u001b[0;32m-> 1527\u001b[0;31m             \u001b[0;32mreturn\u001b[0m \u001b[0mforward_call\u001b[0m\u001b[0;34m(\u001b[0m\u001b[0;34m*\u001b[0m\u001b[0margs\u001b[0m\u001b[0;34m,\u001b[0m \u001b[0;34m**\u001b[0m\u001b[0mkwargs\u001b[0m\u001b[0;34m)\u001b[0m\u001b[0;34m\u001b[0m\u001b[0;34m\u001b[0m\u001b[0m\n\u001b[0m\u001b[1;32m   1528\u001b[0m \u001b[0;34m\u001b[0m\u001b[0m\n\u001b[1;32m   1529\u001b[0m         \u001b[0;32mtry\u001b[0m\u001b[0;34m:\u001b[0m\u001b[0;34m\u001b[0m\u001b[0;34m\u001b[0m\u001b[0m\n",
            "\u001b[0;32m/usr/local/lib/python3.10/dist-packages/torch/nn/modules/loss.py\u001b[0m in \u001b[0;36mforward\u001b[0;34m(self, input, target)\u001b[0m\n\u001b[1;32m   1177\u001b[0m \u001b[0;34m\u001b[0m\u001b[0m\n\u001b[1;32m   1178\u001b[0m     \u001b[0;32mdef\u001b[0m \u001b[0mforward\u001b[0m\u001b[0;34m(\u001b[0m\u001b[0mself\u001b[0m\u001b[0;34m,\u001b[0m \u001b[0minput\u001b[0m\u001b[0;34m:\u001b[0m \u001b[0mTensor\u001b[0m\u001b[0;34m,\u001b[0m \u001b[0mtarget\u001b[0m\u001b[0;34m:\u001b[0m \u001b[0mTensor\u001b[0m\u001b[0;34m)\u001b[0m \u001b[0;34m->\u001b[0m \u001b[0mTensor\u001b[0m\u001b[0;34m:\u001b[0m\u001b[0;34m\u001b[0m\u001b[0;34m\u001b[0m\u001b[0m\n\u001b[0;32m-> 1179\u001b[0;31m         return F.cross_entropy(input, target, weight=self.weight,\n\u001b[0m\u001b[1;32m   1180\u001b[0m                                \u001b[0mignore_index\u001b[0m\u001b[0;34m=\u001b[0m\u001b[0mself\u001b[0m\u001b[0;34m.\u001b[0m\u001b[0mignore_index\u001b[0m\u001b[0;34m,\u001b[0m \u001b[0mreduction\u001b[0m\u001b[0;34m=\u001b[0m\u001b[0mself\u001b[0m\u001b[0;34m.\u001b[0m\u001b[0mreduction\u001b[0m\u001b[0;34m,\u001b[0m\u001b[0;34m\u001b[0m\u001b[0;34m\u001b[0m\u001b[0m\n\u001b[1;32m   1181\u001b[0m                                label_smoothing=self.label_smoothing)\n",
            "\u001b[0;32m/usr/local/lib/python3.10/dist-packages/torch/nn/functional.py\u001b[0m in \u001b[0;36mcross_entropy\u001b[0;34m(input, target, weight, size_average, ignore_index, reduce, reduction, label_smoothing)\u001b[0m\n\u001b[1;32m   3051\u001b[0m     \u001b[0;32mif\u001b[0m \u001b[0msize_average\u001b[0m \u001b[0;32mis\u001b[0m \u001b[0;32mnot\u001b[0m \u001b[0;32mNone\u001b[0m \u001b[0;32mor\u001b[0m \u001b[0mreduce\u001b[0m \u001b[0;32mis\u001b[0m \u001b[0;32mnot\u001b[0m \u001b[0;32mNone\u001b[0m\u001b[0;34m:\u001b[0m\u001b[0;34m\u001b[0m\u001b[0;34m\u001b[0m\u001b[0m\n\u001b[1;32m   3052\u001b[0m         \u001b[0mreduction\u001b[0m \u001b[0;34m=\u001b[0m \u001b[0m_Reduction\u001b[0m\u001b[0;34m.\u001b[0m\u001b[0mlegacy_get_string\u001b[0m\u001b[0;34m(\u001b[0m\u001b[0msize_average\u001b[0m\u001b[0;34m,\u001b[0m \u001b[0mreduce\u001b[0m\u001b[0;34m)\u001b[0m\u001b[0;34m\u001b[0m\u001b[0;34m\u001b[0m\u001b[0m\n\u001b[0;32m-> 3053\u001b[0;31m     \u001b[0;32mreturn\u001b[0m \u001b[0mtorch\u001b[0m\u001b[0;34m.\u001b[0m\u001b[0m_C\u001b[0m\u001b[0;34m.\u001b[0m\u001b[0m_nn\u001b[0m\u001b[0;34m.\u001b[0m\u001b[0mcross_entropy_loss\u001b[0m\u001b[0;34m(\u001b[0m\u001b[0minput\u001b[0m\u001b[0;34m,\u001b[0m \u001b[0mtarget\u001b[0m\u001b[0;34m,\u001b[0m \u001b[0mweight\u001b[0m\u001b[0;34m,\u001b[0m \u001b[0m_Reduction\u001b[0m\u001b[0;34m.\u001b[0m\u001b[0mget_enum\u001b[0m\u001b[0;34m(\u001b[0m\u001b[0mreduction\u001b[0m\u001b[0;34m)\u001b[0m\u001b[0;34m,\u001b[0m \u001b[0mignore_index\u001b[0m\u001b[0;34m,\u001b[0m \u001b[0mlabel_smoothing\u001b[0m\u001b[0;34m)\u001b[0m\u001b[0;34m\u001b[0m\u001b[0;34m\u001b[0m\u001b[0m\n\u001b[0m\u001b[1;32m   3054\u001b[0m \u001b[0;34m\u001b[0m\u001b[0m\n\u001b[1;32m   3055\u001b[0m \u001b[0;34m\u001b[0m\u001b[0m\n",
            "\u001b[0;31mTypeError\u001b[0m: cross_entropy_loss(): argument 'input' (position 1) must be Tensor, not tuple"
          ]
        }
      ],
      "source": [
        "# ADD YOUR CODE HERE\n",
        "\n",
        "# This is the part where you should train your FNN_LM model\n",
        "\n",
        "# CHANGE THE None VALUES TO YOUR DESIRED VALUES\n",
        "\n",
        "# Initialise the model, optimizer, learning rate scheduler (optional), and loss criteria\n",
        "model = FNN_LM(vocab_size=vocab_size, emb_size=EMB_SIZE, hid_size=HID_SIZE, ngram=N_GRAM_LENGTH)\n",
        "# Move the model to GPU if available\n",
        "if USE_CUDA:\n",
        "  model = model.cuda()\n",
        "\n",
        "\n",
        "optimizer = torch.optim.Adam(model.parameters(), lr=0.001)\n",
        "criterion = nn.CrossEntropyLoss()\n",
        "\n",
        "# ADD YOUR CODE HERE\n",
        "# change the directory name with your SAPname and SRno\n",
        "\n",
        "model_dir = 'Pritam_Gouda/fnn'\n",
        "\n",
        "if not os.path.exists(model_dir):\n",
        "    os.makedirs(model_dir)\n",
        "\n",
        "# NOTE: if you are **optionally** using additional options for the trainer\n",
        "# (e.g., a training scheduler), please add them below.\n",
        "trainer = NeuralNGramTrainer(\n",
        "        ngram=N_GRAM_LENGTH,\n",
        "        model=model,\n",
        "        optimizer=optimizer,\n",
        "        criterion=criterion,\n",
        "        train_dataloader=train_dataloader,\n",
        "        valid_dataloader=valid_dataloader,\n",
        "        epochs=EPOCHS,\n",
        "        use_cuda=USE_CUDA,\n",
        "        model_dir=model_dir,\n",
        "        vocab=vocab)\n",
        "\n",
        "# Train the model\n",
        "trainer.train()\n",
        "print(\"Training finished.\")\n",
        "\n",
        "trainer.save_model()\n",
        "trainer.save_loss()\n",
        "vocab_path = os.path.join(model_dir, \"vocab.pt\")\n",
        "torch.save(vocab, vocab_path)\n",
        "print(\"Model artifacts saved to folder:\", model_dir)"
      ]
    },
    {
      "cell_type": "markdown",
      "metadata": {
        "id": "j0APUqz7Nj81"
      },
      "source": [
        "### Eval"
      ]
    },
    {
      "cell_type": "code",
      "source": [
        "eval_ngram_model(trainer, ngram=N_GRAM_LENGTH, ds=validation_text, ds_name='valid', eval_prefixes=eval_prefixes, eval_sequences=eval_sequences, num_names=5, is_neural=True)"
      ],
      "metadata": {
        "id": "BZNU7a17LXUq"
      },
      "execution_count": null,
      "outputs": []
    },
    {
      "cell_type": "markdown",
      "source": [
        "Load your saved model and generate a few names"
      ],
      "metadata": {
        "id": "c_7sBsq2S73m"
      }
    },
    {
      "cell_type": "code",
      "execution_count": null,
      "metadata": {
        "id": "yQqORG-xXSPz"
      },
      "outputs": [],
      "source": [
        "START = \"<s>\"   # Start-of-name token\n",
        "END = \"</s>\"    # End-of-name token\n",
        "UNK = \"<unk>\"   # token representing out of unknown (or out of vocabulary) tokens\n",
        "\n",
        "# ADD YOUR CODE HERE\n",
        "# change the directory name with your SAPname and SRno\n",
        "\n",
        "folder = 'Pritam_Gouda/fnn'\n",
        "device = torch.device(\"cuda\" if torch.cuda.is_available() else \"cpu\")\n",
        "\n",
        "# load the saved model\n",
        "model = torch.load(f\"{folder}/model.pt\", map_location=device)\n",
        "vocab = torch.load(f\"{folder}/vocab.pt\")\n",
        "\n",
        "# NOTE: if you are **optionally** using additional options for the trainer\n",
        "# (e.g., a training scheduler), please add them below.\n",
        "trainer = NeuralNGramTrainer(\n",
        "        ngram=N_GRAM_LENGTH,\n",
        "        model=model,\n",
        "        optimizer=None,\n",
        "        criterion=None,\n",
        "        train_dataloader=None,\n",
        "        valid_dataloader=None,\n",
        "        epochs=None,\n",
        "        use_cuda=USE_CUDA,\n",
        "        model_dir=None,\n",
        "        vocab=vocab)\n",
        "\n",
        "# Generate a few names\n",
        "names = trainer.generate_names(k=5, n=MAX_NAME_LENGTH, prefix=['a','a','s','h'])\n",
        "print(\", \".join(names))\n",
        "\n",
        "# you may use this block to test if your model and vocab load properly,\n",
        "# and that your functions are able to generate sentences, calculate perplexity etc."
      ]
    },
    {
      "cell_type": "code",
      "source": [
        "# Release models we don't need any more.\n",
        "del trainer\n",
        "del model"
      ],
      "metadata": {
        "id": "yKmRzACIc9t6"
      },
      "execution_count": null,
      "outputs": []
    },
    {
      "cell_type": "markdown",
      "source": [
        "## 2.2 Recurrent Neural Networks for Language Modelling"
      ],
      "metadata": {
        "id": "g9ac9hccZPRW"
      }
    },
    {
      "cell_type": "markdown",
      "source": [
        "For this stage of the assignment, you will implement an RNN language model.\n",
        "\n",
        "Some tips:\n",
        "* use dropout\n",
        "* use the same weights for the embedding layer and the pre-softmax layer\n",
        "* train with Adam\n"
      ],
      "metadata": {
        "id": "9mjlDppEdH5v"
      }
    },
    {
      "cell_type": "code",
      "source": [
        "\n",
        "class RNN_LM(nn.Module):\n",
        "\n",
        "    # you may change the input arguments for __init__\n",
        "    def __init__(self, vocab_size, emb_size, hid_size, num_layers, dropout):\n",
        "        super(RNN_LM, self).__init__()\n",
        "\n",
        "\n",
        "        # YOUR CODE HERE\n",
        "        self.embedding = nn.Embedding(vocab_size, emb_size)\n",
        "        self.rnn = nn.RNN(emb_size, hid_size, num_layers, dropout=dropout, batch_first=True)\n",
        "        self.fc = nn.Linear(hid_size, vocab_size)\n",
        "        self.dropout = nn.Dropout(dropout)\n",
        "\n",
        "    def forward(self, x):\n",
        "\n",
        "        # YOUR CODE HERE\n",
        "        embedding = self.embedding(x)\n",
        "\n",
        "        # RNN/LSTM/GRU output and hidden state (if LSTM/GRU)\n",
        "        output, hidden = self.rnn(embedding)\n",
        "\n",
        "        # Decode the hidden state to get output logits\n",
        "        logits = self.fc(output)\n",
        "\n",
        "        return logits\n"
      ],
      "metadata": {
        "id": "x4rPRlNo8L58"
      },
      "execution_count": null,
      "outputs": []
    },
    {
      "cell_type": "code",
      "source": [
        "class RNNTrainer:\n",
        "    \"\"\"\n",
        "    RNNTrainer wraps RNN_LM to handle training and evaluation.\n",
        "\n",
        "    \"\"\"\n",
        "\n",
        "    # NOTE: you are free to add additional inputs/functions\n",
        "    # to RNNTrainer to make training better\n",
        "    # make sure to define and add it within the input\n",
        "    # and initialization if you are using any additional inputs\n",
        "    # for usage in the function\n",
        "\n",
        "    def __init__(\n",
        "        self,\n",
        "        model,\n",
        "        optimizer,\n",
        "        criterion,\n",
        "        train_dataloader,\n",
        "        valid_dataloader,\n",
        "        epochs,\n",
        "        use_cuda,\n",
        "        vocab,\n",
        "        model_dir\n",
        "    ):\n",
        "        self.ngram = 5\n",
        "        self.model = model\n",
        "        self.epochs = epochs\n",
        "        self.optimizer = optimizer\n",
        "        self.criterion = criterion\n",
        "        self.train_dataloader = train_dataloader\n",
        "        self.valid_dataloader = valid_dataloader\n",
        "        self.use_cuda = use_cuda\n",
        "        self.model_dir = model_dir\n",
        "        self.loss = {\"train\": [], \"val\": []}\n",
        "        self.vocab = vocab\n",
        "\n",
        "        # Move the model to GPU if available\n",
        "        if self.use_cuda:\n",
        "            self.model = self.model.cuda()\n",
        "\n",
        "    def train(self):\n",
        "        \"\"\"\n",
        "        Trains the model with train_dataloader and validates using valid_dataloader\n",
        "\n",
        "        \"\"\"\n",
        "        # You may change the input arguments to this function,\n",
        "        # but make sure to also change the code wherever this function is called\n",
        "\n",
        "        # ADD YOUR CODE HERE FOR TRAINING & VALIDATION\n",
        "\n",
        "        for epoch in range(self.epochs):\n",
        "            self.model.train()  # Set the model to training mode\n",
        "            train_loss = 0.0\n",
        "\n",
        "            for batch in self.train_dataloader:\n",
        "                text, targets = batch\n",
        "                if self.use_cuda:\n",
        "                    text, targets = text.cuda(), targets.cuda()\n",
        "\n",
        "                self.optimizer.zero_grad()\n",
        "                output = self.model(text)\n",
        "\n",
        "                # Reshape output and targets for loss calculation\n",
        "                output = output.view(-1, output.shape[-1])\n",
        "                targets = targets.view(-1)\n",
        "\n",
        "                loss = self.criterion(output, targets)\n",
        "                loss.backward()\n",
        "                self.optimizer.step()\n",
        "\n",
        "                train_loss += loss.item() * text.size(0)  # Accumulate with batch size\n",
        "\n",
        "            epoch_train_loss = train_loss / len(self.train_dataloader.dataset)\n",
        "            self.loss['train'].append(epoch_train_loss)\n",
        "\n",
        "            # Validation\n",
        "            val_loss = self.evaluate()\n",
        "            self.loss['val'].append(val_loss)\n",
        "\n",
        "            print(f\"Epoch {epoch+1}/{self.epochs}, Train Loss: {epoch_train_loss:.4f}, Val Loss: {val_loss:.4f}\")\n",
        "\n",
        "    def evaluate(self):\n",
        "        self.model.eval()  # Set the model to evaluation mode\n",
        "        val_loss = 0.0\n",
        "\n",
        "        with torch.no_grad():\n",
        "            for batch in self.valid_dataloader:\n",
        "                text, targets = batch\n",
        "                if self.use_cuda:\n",
        "                    text, targets = text.cuda(), targets.cuda()\n",
        "\n",
        "                output = self.model(text)\n",
        "                output = output.view(-1, output.shape[-1])  # Reshape for loss\n",
        "                targets = targets.view(-1)\n",
        "\n",
        "                loss = self.criterion(output, targets)\n",
        "                val_loss += loss.item() * text.size(0)\n",
        "\n",
        "        return val_loss / len(self.valid_dataloader.dataset)\n",
        "\n",
        "\n",
        "    def save_model(self):\n",
        "        \"\"\"\n",
        "        Save final model to directory\n",
        "\n",
        "        \"\"\"\n",
        "\n",
        "        model_path = os.path.join(self.model_dir, \"model.pt\")\n",
        "        torch.save(self.model, model_path)\n",
        "\n",
        "\n",
        "    def save_loss(self):\n",
        "        \"\"\"\n",
        "        Save train/val loss as json file to the directory\n",
        "\n",
        "        \"\"\"\n",
        "\n",
        "        loss_path = os.path.join(self.model_dir, \"loss.json\")\n",
        "        with open(loss_path, \"w\") as fp:\n",
        "            json.dump(self.loss, fp)\n",
        "\n",
        "\n",
        "    def get_next_char_probabilities(self):\n",
        "        \"\"\"\n",
        "        Return a dictionary of probabilities for each char in the vocabulary\n",
        "        with a default starting sequence of [START]\n",
        "\n",
        "        Returns:\n",
        "            dictionary with key: char, value: probability\n",
        "\n",
        "        \"\"\"\n",
        "\n",
        "        # ADD YOUR CODE HERE\n",
        "        self.model.eval() #\n",
        "        start_sequence = [self.vocab.get_stoi()[START]]\n",
        "        start_tensor = torch.tensor(start_sequence, dtype=torch.long)#\n",
        "\n",
        "        if self.use_cuda:\n",
        "            start_tensor = start_tensor.cuda()\n",
        "        logits = self.model(start_tensor)  # Add a batch dimension\n",
        "        probs = torch.softmax(logits, dim=1).squeeze().detach().cpu().numpy()  # Probabilities for the last character\n",
        "        next_char_probabilities = dict(zip(self.vocab.get_itos(), probs))\n",
        "        return next_char_probabilities\n",
        "\n",
        "\n",
        "    def generate_names(self, k, n=MAX_NAME_LENGTH, prefix=None):\n",
        "        \"\"\"\n",
        "        Given a prefix, generate k names according to the model.\n",
        "        The default prefix is None.\n",
        "\n",
        "        Args:\n",
        "            k [int]: Number of names to generate\n",
        "            n [int]: Maximum length (number of tokens) in the generated name\n",
        "            prefix [list of tokens]: Prefix after which the names have to be generated\n",
        "\n",
        "        Returns:\n",
        "            list of generated names [list[str]]\n",
        "        \"\"\"\n",
        "\n",
        "        # ADD YOUR CODE HERE\n",
        "\n",
        "        # don't forget self.model.eval()\n",
        "\n",
        "\n",
        "        self.model.eval()  # Set the model to evaluation mode\n",
        "        generated_names = []\n",
        "\n",
        "        with torch.no_grad():\n",
        "            for _ in range(k):\n",
        "                if prefix:\n",
        "                    if prefix[-1] == END:\n",
        "                        prefix = prefix[:-1]\n",
        "                    if len(prefix)> self.ngram-1:\n",
        "                        prefix_cut = prefix[-(self.ngram-1):]\n",
        "                        prefix_ids = [self.vocab.get_stoi()[char] for char in prefix_cut]\n",
        "                    else:\n",
        "                        prefix_ids = [self.vocab.get_stoi()[char] for char in prefix]\n",
        "                    input_data = torch.tensor(prefix_ids, dtype=torch.long).unsqueeze(0) # Create tensor\n",
        "\n",
        "                else:\n",
        "                    start_sequence = [START] * (self.ngram - 1)  # Generate default starting sequence\n",
        "                    start_sequence_ids = [self.vocab.get_stoi()[char] for char in start_sequence]  # Convert to token IDs\n",
        "                    input_data = torch.tensor(start_sequence_ids, dtype=torch.long).unsqueeze(0) # Gen extra start tokens\n",
        "                if self.use_cuda:\n",
        "                    input_data = input_data.cuda()\n",
        "                name = []\n",
        "\n",
        "                for _ in range(n):\n",
        "                # print(tensor) #Got tensor of window size dimensions\n",
        "                    logits = self.model(input_data)\n",
        "                    probs = torch.softmax(logits[0, -1], dim=0)\n",
        "                    next_char_index = torch.multinomial(probs, num_samples=1)\n",
        "                    next_char = self.vocab.get_itos()[next_char_index]\n",
        "                    if next_char == END:\n",
        "                        break\n",
        "                    name.append(next_char)\n",
        "                    next_token_id_tensor = torch.tensor([[next_char_index]], dtype=torch.long, device=input_data.device)\n",
        "                    input_data = torch.cat((input_data[:, 1:], next_token_id_tensor), dim=1)\n",
        "                if prefix:\n",
        "                        filtered_prefix = [token for token in prefix if token != '<s>']\n",
        "                        name = filtered_prefix+name\n",
        "                generated_names.append(name)\n",
        "            gen_names = [''.join(sublist) for sublist in generated_names]\n",
        "\n",
        "            return gen_names\n",
        "\n",
        "\n",
        "\n",
        "\n",
        "    def get_perplexity(self, text):\n",
        "        \"\"\"\n",
        "        Returns the perplexity of the model on text as a float.\n",
        "\n",
        "        Args:\n",
        "            text [list[list[str]]]: list of tokenised names\n",
        "            > Example:\n",
        "            [['<s>', 'a', 'a', 'b', 'i', 'd', '</s>'],\n",
        "            ['<s>', 'a', 'a', 'b', 'i', 'd', 'a', '</s>']]\n",
        "\n",
        "        Returns:\n",
        "            perplexity [float]\n",
        "\n",
        "        \"\"\"\n",
        "\n",
        "        # ADD YOUR CODE HERE\n",
        "\n",
        "        # you may want to use the dataloader here\n",
        "        # don't forget self.model.eval()\n",
        "\n",
        "        self.model.eval()  # Set the model to evaluation mode\n",
        "\n",
        "        total_loss = 0.0\n",
        "        total_tokens = 0\n",
        "\n",
        "        with torch.no_grad():\n",
        "            for batch_input, batch_output in train_dataloader:\n",
        "                output = self.model(batch_input)\n",
        "                batch_output = batch_output.view(-1)\n",
        "                loss = self.criterion(output, batch_output)\n",
        "                total_loss += loss.item() * batch_output.size(0)  # Multiply by batch size to account for varying token lengths\n",
        "                total_tokens += batch_output.size(0)\n",
        "\n",
        "            avg_loss = total_loss / total_tokens\n",
        "            perplexity = math.exp(avg_loss)\n",
        "\n",
        "\n",
        "        #perplexity = math.exp(total_loss / total_words)\n",
        "\n",
        "        return perplexity\n",
        "\n",
        "\n",
        "\n",
        "    def get_most_likely_chars(self, sequence, k):\n",
        "        \"\"\"\n",
        "        Given a sequence of characters, outputs k most likely characters after the sequence.\n",
        "\n",
        "        Args:\n",
        "            sequence [list[str]]: list of characters\n",
        "            k [int]: number of most likely characters to return\n",
        "\n",
        "        Returns:\n",
        "            chars [list[str]]: *Ordered* list of most likely characters\n",
        "                        (with charcater at index 0 being the most likely and\n",
        "                        character at index k-1 being the least likely)\n",
        "\n",
        "        \"\"\"\n",
        "\n",
        "        # ADD YOUR CODE HERE\n",
        "\n",
        "        # don't forget self.model.eval()\n",
        "        \"\"\"\n",
        "        self.model.eval()\n",
        "        sequence_indices = [self.vocab.get_stoi()[char] for char in sequence]\n",
        "        sequence_tensor = torch.tensor(sequence_indices).unsqueeze(0)\n",
        "        if self.use_cuda:\n",
        "            sequence_tensor = sequence_tensor.cuda()\n",
        "        output = self.model(sequence_tensor, torch.tensor([len(sequence_indices)]))\n",
        "        probabilities = torch.softmax(output[:, -1, :], dim=-1).squeeze().cpu().detach().numpy()\n",
        "        sorted_indices = np.argsort(probabilities)[::-1][:k]\n",
        "        most_likely_chars = [self.vocab.itos[i] for i in sorted_indices]\n",
        "        return most_likely_chars\n",
        "        \"\"\"\n",
        "        self.model.eval()\n",
        "\n",
        "\n",
        "        most_likely=[]\n",
        "        current_sequence = [self.vocab.get_stoi()[char] for char in sequence]\n",
        "        # for _ in range(k):\n",
        "        current_sequence_tensor = torch.tensor(current_sequence)\n",
        "        if self.use_cuda:\n",
        "            current_sequence_tensor = current_sequence_tensor.cuda()\n",
        "        # Forward pass\n",
        "        logits=self.model(current_sequence_tensor)\n",
        "\n",
        "        probabilities = torch.softmax(logits, dim=1).squeeze()\n",
        "        topk_values, topk_indices = torch.topk(probabilities[-1], k)\n",
        "        most_likely = [self.vocab.get_itos()[idx] for idx in topk_indices.tolist()]\n",
        "        return most_likely\n"
      ],
      "metadata": {
        "id": "B4QYD_bg7WBm"
      },
      "execution_count": null,
      "outputs": []
    },
    {
      "cell_type": "code",
      "source": [
        "from torch.nn.utils.rnn import pad_sequence\n",
        "def collate_rnn(batch, text_pipeline):\n",
        "\n",
        "    # Process each sequence in the batch\n",
        "    batch_input, batch_output = [], []\n",
        "\n",
        "    for sequence in batch:\n",
        "        token_id_sequence = text_pipeline(sequence)\n",
        "\n",
        "\n",
        "        input_sequence = token_id_sequence[:-1]\n",
        "        output_sequence = token_id_sequence[1:]\n",
        "\n",
        "        batch_input.append(torch.tensor(input_sequence, dtype=torch.long))\n",
        "        batch_output.append(torch.tensor(output_sequence, dtype=torch.long))\n",
        "\n",
        "    batch_input = pad_sequence(batch_input, batch_first=True, padding_value=2)\n",
        "    batch_output = pad_sequence(batch_output, batch_first=True, padding_value=2)\n",
        "\n",
        "    # # Convert to PyTorch tensors and move to GPU if necessary\n",
        "    # batch_input = torch.tensor(batch_input, dtype=torch.long)\n",
        "    # batch_output = torch.tensor(batch_output, dtype=torch.long)\n",
        "\n",
        "    if USE_CUDA:\n",
        "        batch_input = batch_input.cuda()\n",
        "        batch_output = batch_output.cuda()\n",
        "\n",
        "    return batch_input, batch_output\n",
        "\n",
        "def get_rnn_dataloader(input_text, vocab, batch_size, shuffle):\n",
        "    \"\"\"\n",
        "    Creates a dataloader for the RNN-based language model.\n",
        "    Each sequence in the input_text is treated as a training example.\n",
        "\n",
        "    Args:\n",
        "        input_text [list[list[str]]]: list of list of tokens\n",
        "        vocab [torchtext.vocab]: vocabulary of the corpus\n",
        "    \"\"\"\n",
        "\n",
        "    text_sequences = []\n",
        "    for sequence in input_text:\n",
        "        if sequence[0] != START:\n",
        "            sequence = [START] + sequence  # Add start token at the beginning of each sequence\n",
        "\n",
        "        text_sequences.append(sequence)\n",
        "\n",
        "    text_pipeline = lambda x: vocab(x)\n",
        "    collate_fn = collate_rnn\n",
        "\n",
        "    dataloader = DataLoader(\n",
        "        text_sequences,\n",
        "        batch_size=batch_size,\n",
        "        shuffle=shuffle,\n",
        "        collate_fn=partial(collate_fn, text_pipeline=text_pipeline),\n",
        "    )\n",
        "\n",
        "    return dataloader"
      ],
      "metadata": {
        "id": "0bVIomRC7KZ8"
      },
      "execution_count": null,
      "outputs": []
    },
    {
      "cell_type": "code",
      "execution_count": null,
      "metadata": {
        "id": "QI_ePpV_b-vC"
      },
      "outputs": [],
      "source": [
        "\"\"\"choose your hyperparameter and see the difference in performance\"\"\"\n",
        "\n",
        "# ADD YOUR CODE HERE\n",
        "\n",
        "# CHANGE THE None VALUES TO YOUR DESIRED VALUES\n",
        "# Please feel free to play with these hyperparameters to see the effects on the\n",
        "# quality of generated names and perplexity\n",
        "\n",
        "MAX_NAME_LENGTH = 10 # maximum length of name for generation\n",
        "\n",
        "# Remember to fix seed as 42\n",
        "torch.manual_seed(42)\n",
        "\n",
        "# check if GPU is available\n",
        "USE_CUDA = torch.cuda.is_available()\n",
        "print(f\"GPU is available: {USE_CUDA}\")\n",
        "\n",
        "EPOCHS = 10\n",
        "BATCH_SIZE = 64\n",
        "SHUFFLE = True # if dataset should be shuffled\n",
        "\n",
        "# Get data iterator and build vocabulary from input text\n",
        "train_text, vocab = get_tokenised_text_and_vocab(ds_type='train')\n",
        "validation_text, _ = get_tokenised_text_and_vocab(ds_type='valid', vocab=vocab)\n",
        "\n",
        "# Check the size of vocabulary\n",
        "vocab_size = len(vocab.get_stoi())\n",
        "print(vocab_size)\n",
        "\n",
        "# create the dataloaders for training and validation\n",
        "\n",
        "# ADD YOUR CODE HERE\n",
        "\n",
        "train_dataloader = get_rnn_dataloader(train_text, vocab, batch_size=BATCH_SIZE, shuffle=SHUFFLE)\n",
        "valid_dataloader = get_rnn_dataloader(validation_text, vocab, batch_size=BATCH_SIZE, shuffle=SHUFFLE)"
      ]
    },
    {
      "cell_type": "code",
      "execution_count": null,
      "metadata": {
        "id": "V_8F2e4Rb-vE"
      },
      "outputs": [],
      "source": [
        "# ADD YOUR CODE HERE\n",
        "\n",
        "# CHANGE THE None VALUES TO YOUR DESIRED VALUES\n",
        "\n",
        "# Initialize the model\n",
        "# you may want to pass arguments to RNN_LM based on your implementation\n",
        "model = RNN_LM(vocab_size=vocab_size, emb_size=50, hid_size=100,num_layers=2,  dropout=0.5)\n",
        "# Move the model to GPU if available\n",
        "if USE_CUDA:\n",
        "  model = model.cuda()\n",
        "\n",
        "# Initialise the optimizer, learning rate scheduler (optional), and loss criteria\n",
        "optimizer = torch.optim.Adam(model.parameters(), lr=0.001)\n",
        "criterion = nn.CrossEntropyLoss()\n",
        "\n",
        "# ADD YOUR CODE HERE\n",
        "# change the directory name with your SAPname and SRno\n",
        "\n",
        "model_dir = 'Pritam_Gouda/rnn'\n",
        "\n",
        "if not os.path.exists(model_dir):\n",
        "    os.makedirs(model_dir)\n",
        "\n",
        "# NOTE: if you are **optionally** using additional options for the trainer\n",
        "# (e.g., a training scheduler), please add them below.\n",
        "trainer = RNNTrainer(\n",
        "        model=model,\n",
        "        optimizer=optimizer,\n",
        "        criterion=criterion,\n",
        "        train_dataloader=train_dataloader,\n",
        "        valid_dataloader=valid_dataloader,\n",
        "        epochs=EPOCHS,\n",
        "        use_cuda=USE_CUDA,\n",
        "        vocab=vocab,\n",
        "        model_dir=model_dir\n",
        "        )\n",
        "\n",
        "# Train the model\n",
        "trainer.train()\n",
        "print(\"Training finished.\")\n",
        "\n",
        "trainer.save_model()\n",
        "trainer.save_loss()\n",
        "vocab_path = os.path.join(model_dir, \"vocab.pt\")\n",
        "torch.save(vocab, vocab_path)\n",
        "print(\"Model artifacts saved to folder:\", model_dir)"
      ]
    },
    {
      "cell_type": "markdown",
      "source": [
        "### Eval"
      ],
      "metadata": {
        "id": "Z1BDYq3OeMbc"
      }
    },
    {
      "cell_type": "code",
      "source": [
        "## Please do not change anything in this code block.\n",
        "\n",
        "def eval_rnn_model(model, ds, ds_name, eval_prefixes, eval_sequences, num_names=5):\n",
        "    \"\"\"\n",
        "    Runs the following evaluations on n-gram models:\n",
        "    (1) checks if probability distribution returned by model.get_next_char_probabilities() sums to one\n",
        "    (2) checks the perplexity of the model\n",
        "    (3) generates names using model.generate_names()\n",
        "    (4) generates names given a prefix using model.generate_names()\n",
        "    (4) output most likely characters after a given sequence of chars using model.get_most_likely_chars()\n",
        "    \"\"\"\n",
        "\n",
        "    # (1) checks if probability distributions sum to one\n",
        "    is_valid = check_validity(model, 1, True)\n",
        "    print(f'EVALUATION probability distribution is valid: {is_valid}')\n",
        "\n",
        "    # (2) evaluate the perplexity of the model on the dataset\n",
        "    print(f'EVALUATION of RNN on {ds_name} perplexity:',\n",
        "        model.get_perplexity(ds))\n",
        "\n",
        "    # (3) generate a few names\n",
        "    generated_names = \", \".join(model.generate_names(k=num_names, n=MAX_NAME_LENGTH))\n",
        "    print(f'EVALUATION RNN generated names are {generated_names}')\n",
        "\n",
        "    # (4) generate a few names given a prefix\n",
        "    for prefix in eval_prefixes:\n",
        "        generated_names_with_prefix = \", \".join(model.generate_names(k=num_names, n=MAX_NAME_LENGTH, prefix=prefix))\n",
        "        prefix = ''.join(prefix)\n",
        "        print(f'EVALUATION RNN generated names with prefix {prefix} are {generated_names_with_prefix}')\n",
        "\n",
        "    # (5) get most likely characters after a sequence\n",
        "    for sequence in eval_sequences:\n",
        "        most_likely_chars = \", \".join(model.get_most_likely_chars(sequence=sequence, k=num_names))\n",
        "        sequence = \"\".join(sequence)\n",
        "        print(f\"EVALUATION RNN the top most likely chars after {sequence} are {most_likely_chars}\")"
      ],
      "metadata": {
        "id": "wNGBYVYRtz4H"
      },
      "execution_count": null,
      "outputs": []
    },
    {
      "cell_type": "code",
      "source": [
        "t = trainer.generate_names(5,MAX_NAME_LENGTH)\n",
        "print(t)"
      ],
      "metadata": {
        "id": "lJ54iXZ-yFIL"
      },
      "execution_count": null,
      "outputs": []
    },
    {
      "cell_type": "code",
      "source": [
        "eval_rnn_model(trainer, ds=validation_text, ds_name='valid', eval_prefixes=eval_prefixes, eval_sequences=eval_sequences, num_names=5)"
      ],
      "metadata": {
        "id": "GZD3LMk5eJmt"
      },
      "execution_count": null,
      "outputs": []
    },
    {
      "cell_type": "code",
      "source": [
        "START = \"<s>\"   # Start-of-name token\n",
        "END = \"</s>\"    # End-of-name token\n",
        "UNK = \"<unk>\"   # token representing out of unknown (or out of vocabulary) tokens\n",
        "\n",
        "# ADD YOUR CODE HERE\n",
        "# change the directory name with your SAPname and SRno\n",
        "\n",
        "folder = 'Pritam_Gouda/rnn'\n",
        "device = torch.device(\"cuda\" if torch.cuda.is_available() else \"cpu\")\n",
        "\n",
        "# load the saved model\n",
        "model = torch.load(f\"{folder}/model.pt\", map_location=device)\n",
        "vocab = torch.load(f\"{folder}/vocab.pt\")\n",
        "\n",
        "# NOTE: if you are **optionally** using additional options for the trainer\n",
        "# (e.g., a training scheduler), please add them below.\n",
        "trainer = RNNTrainer(\n",
        "        model=model,\n",
        "        optimizer=None,\n",
        "        criterion=None,\n",
        "        train_dataloader=None,\n",
        "        valid_dataloader=None,\n",
        "        epochs=None,\n",
        "        use_cuda=USE_CUDA,\n",
        "        model_dir=None,\n",
        "        vocab=vocab)\n",
        "\n",
        "# Generate a few names\n",
        "names = trainer.generate_names(k=5, n=MAX_NAME_LENGTH, prefix=['a','a','s','h'])\n",
        "print(\", \".join(names))\n",
        "\n",
        "# you may use this block to test if your model and vocab load properly,\n",
        "# and that your functions are able to generate sentences, calculate perplexity etc."
      ],
      "metadata": {
        "id": "TMvL3KPfb-eO"
      },
      "execution_count": null,
      "outputs": []
    },
    {
      "cell_type": "code",
      "source": [
        "# Release models we don't need any more.\n",
        "del trainer\n",
        "del model"
      ],
      "metadata": {
        "id": "uoPkwUKs3_vy"
      },
      "execution_count": null,
      "outputs": []
    },
    {
      "cell_type": "markdown",
      "source": [
        "# Congratulations!\n",
        "\n",
        "You've reacehd the end of the assignment. Hope this was a pleasant and fun exercise!\n",
        "\n",
        "Check the submission instructions mentioned at the begining of the notebook in order to submit your homework.\n"
      ],
      "metadata": {
        "id": "2pn7Mxs_5Nj0"
      }
    },
    {
      "cell_type": "code",
      "source": [],
      "metadata": {
        "id": "jYCueoDD-KEO"
      },
      "execution_count": null,
      "outputs": []
    }
  ],
  "metadata": {
    "colab": {
      "provenance": [],
      "gpuType": "T4",
      "include_colab_link": true
    },
    "kernelspec": {
      "display_name": "Python 3",
      "name": "python3"
    },
    "language_info": {
      "name": "python"
    },
    "accelerator": "GPU"
  },
  "nbformat": 4,
  "nbformat_minor": 0
}